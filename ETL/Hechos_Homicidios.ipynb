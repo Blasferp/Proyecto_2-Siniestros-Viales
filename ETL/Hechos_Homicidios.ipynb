{
 "cells": [
  {
   "cell_type": "markdown",
   "metadata": {},
   "source": [
    "# Hechos:\n",
    "***\n",
    "***"
   ]
  },
  {
   "cell_type": "markdown",
   "metadata": {},
   "source": [
    "### Importar libreras"
   ]
  },
  {
   "cell_type": "code",
   "execution_count": 1,
   "metadata": {},
   "outputs": [],
   "source": [
    "# Importa Librerias\n",
    "import pandas as pd\n",
    "import numpy as np"
   ]
  },
  {
   "cell_type": "markdown",
   "metadata": {},
   "source": [
    "***\n",
    "### Lectura y asignacion de Variable"
   ]
  },
  {
   "cell_type": "code",
   "execution_count": 2,
   "metadata": {},
   "outputs": [],
   "source": [
    "# Se carga el Excel en DataFrame en una Variable\n",
    "hechos = pd.read_excel('Data\\hechos.xlsx')"
   ]
  },
  {
   "cell_type": "markdown",
   "metadata": {},
   "source": [
    "***\n",
    "### Configuracion Visual observar completos los DataFrame"
   ]
  },
  {
   "cell_type": "code",
   "execution_count": 3,
   "metadata": {},
   "outputs": [],
   "source": [
    "# Seteo para ver completamenta las columnas y las filas\n",
    "pd.set_option('display.max_columns', None)\n",
    "pd.set_option('display.max_rows', None)"
   ]
  },
  {
   "cell_type": "markdown",
   "metadata": {},
   "source": [
    "***\n",
    "### Informacion general y visualizacion del DataFrame hechos\n"
   ]
  },
  {
   "cell_type": "code",
   "execution_count": 4,
   "metadata": {},
   "outputs": [
    {
     "name": "stdout",
     "output_type": "stream",
     "text": [
      "<class 'pandas.core.frame.DataFrame'>\n",
      "RangeIndex: 696 entries, 0 to 695\n",
      "Data columns (total 21 columns):\n",
      " #   Column                 Non-Null Count  Dtype         \n",
      "---  ------                 --------------  -----         \n",
      " 0   ID                     696 non-null    object        \n",
      " 1   N_VICTIMAS             696 non-null    int64         \n",
      " 2   FECHA                  696 non-null    datetime64[ns]\n",
      " 3   AAAA                   696 non-null    int64         \n",
      " 4   MM                     696 non-null    int64         \n",
      " 5   DD                     696 non-null    int64         \n",
      " 6   HORA                   696 non-null    object        \n",
      " 7   HH                     696 non-null    object        \n",
      " 8   LUGAR_DEL_HECHO        696 non-null    object        \n",
      " 9   TIPO_DE_CALLE          696 non-null    object        \n",
      " 10  Calle                  695 non-null    object        \n",
      " 11  Altura                 129 non-null    float64       \n",
      " 12  Cruce                  525 non-null    object        \n",
      " 13  Dirección Normalizada  688 non-null    object        \n",
      " 14  COMUNA                 696 non-null    int64         \n",
      " 15  XY (CABA)              696 non-null    object        \n",
      " 16  pos x                  696 non-null    object        \n",
      " 17  pos y                  696 non-null    object        \n",
      " 18  PARTICIPANTES          696 non-null    object        \n",
      " 19  VICTIMA                696 non-null    object        \n",
      " 20  ACUSADO                696 non-null    object        \n",
      "dtypes: datetime64[ns](1), float64(1), int64(5), object(14)\n",
      "memory usage: 114.3+ KB\n"
     ]
    }
   ],
   "source": [
    "hechos.info()"
   ]
  },
  {
   "cell_type": "code",
   "execution_count": 5,
   "metadata": {},
   "outputs": [
    {
     "data": {
      "text/html": [
       "<div>\n",
       "<style scoped>\n",
       "    .dataframe tbody tr th:only-of-type {\n",
       "        vertical-align: middle;\n",
       "    }\n",
       "\n",
       "    .dataframe tbody tr th {\n",
       "        vertical-align: top;\n",
       "    }\n",
       "\n",
       "    .dataframe thead th {\n",
       "        text-align: right;\n",
       "    }\n",
       "</style>\n",
       "<table border=\"1\" class=\"dataframe\">\n",
       "  <thead>\n",
       "    <tr style=\"text-align: right;\">\n",
       "      <th></th>\n",
       "      <th>ID</th>\n",
       "      <th>N_VICTIMAS</th>\n",
       "      <th>FECHA</th>\n",
       "      <th>AAAA</th>\n",
       "      <th>MM</th>\n",
       "      <th>DD</th>\n",
       "      <th>HORA</th>\n",
       "      <th>HH</th>\n",
       "      <th>LUGAR_DEL_HECHO</th>\n",
       "      <th>TIPO_DE_CALLE</th>\n",
       "      <th>Calle</th>\n",
       "      <th>Altura</th>\n",
       "      <th>Cruce</th>\n",
       "      <th>Dirección Normalizada</th>\n",
       "      <th>COMUNA</th>\n",
       "      <th>XY (CABA)</th>\n",
       "      <th>pos x</th>\n",
       "      <th>pos y</th>\n",
       "      <th>PARTICIPANTES</th>\n",
       "      <th>VICTIMA</th>\n",
       "      <th>ACUSADO</th>\n",
       "    </tr>\n",
       "  </thead>\n",
       "  <tbody>\n",
       "    <tr>\n",
       "      <th>0</th>\n",
       "      <td>2016-0001</td>\n",
       "      <td>1</td>\n",
       "      <td>2016-01-01</td>\n",
       "      <td>2016</td>\n",
       "      <td>1</td>\n",
       "      <td>1</td>\n",
       "      <td>04:00:00</td>\n",
       "      <td>4</td>\n",
       "      <td>AV PIEDRA BUENA Y AV FERNANDEZ DE LA CRUZ</td>\n",
       "      <td>AVENIDA</td>\n",
       "      <td>PIEDRA BUENA AV.</td>\n",
       "      <td>NaN</td>\n",
       "      <td>FERNANDEZ DE LA CRUZ, F., GRAL. AV.</td>\n",
       "      <td>PIEDRA BUENA AV. y FERNANDEZ DE LA CRUZ, F., G...</td>\n",
       "      <td>8</td>\n",
       "      <td>Point (98896.78238426 93532.43437792)</td>\n",
       "      <td>-58.47533969</td>\n",
       "      <td>-34.68757022</td>\n",
       "      <td>MOTO-AUTO</td>\n",
       "      <td>MOTO</td>\n",
       "      <td>AUTO</td>\n",
       "    </tr>\n",
       "    <tr>\n",
       "      <th>1</th>\n",
       "      <td>2016-0002</td>\n",
       "      <td>1</td>\n",
       "      <td>2016-01-02</td>\n",
       "      <td>2016</td>\n",
       "      <td>1</td>\n",
       "      <td>2</td>\n",
       "      <td>01:15:00</td>\n",
       "      <td>1</td>\n",
       "      <td>AV GRAL PAZ  Y AV DE LOS CORRALES</td>\n",
       "      <td>GRAL PAZ</td>\n",
       "      <td>PAZ, GRAL. AV.</td>\n",
       "      <td>NaN</td>\n",
       "      <td>DE LOS CORRALES AV.</td>\n",
       "      <td>PAZ, GRAL. AV. y DE LOS CORRALES AV.</td>\n",
       "      <td>9</td>\n",
       "      <td>Point (95832.05571093 95505.41641999)</td>\n",
       "      <td>-58.50877521</td>\n",
       "      <td>-34.66977709</td>\n",
       "      <td>AUTO-PASAJEROS</td>\n",
       "      <td>AUTO</td>\n",
       "      <td>PASAJEROS</td>\n",
       "    </tr>\n",
       "    <tr>\n",
       "      <th>2</th>\n",
       "      <td>2016-0003</td>\n",
       "      <td>1</td>\n",
       "      <td>2016-01-03</td>\n",
       "      <td>2016</td>\n",
       "      <td>1</td>\n",
       "      <td>3</td>\n",
       "      <td>07:00:00</td>\n",
       "      <td>7</td>\n",
       "      <td>AV ENTRE RIOS 2034</td>\n",
       "      <td>AVENIDA</td>\n",
       "      <td>ENTRE RIOS AV.</td>\n",
       "      <td>2034.0</td>\n",
       "      <td>NaN</td>\n",
       "      <td>ENTRE RIOS AV. 2034</td>\n",
       "      <td>1</td>\n",
       "      <td>Point (106684.29090040 99706.57687843)</td>\n",
       "      <td>-58.39040293</td>\n",
       "      <td>-34.63189362</td>\n",
       "      <td>MOTO-AUTO</td>\n",
       "      <td>MOTO</td>\n",
       "      <td>AUTO</td>\n",
       "    </tr>\n",
       "    <tr>\n",
       "      <th>3</th>\n",
       "      <td>2016-0004</td>\n",
       "      <td>1</td>\n",
       "      <td>2016-01-10</td>\n",
       "      <td>2016</td>\n",
       "      <td>1</td>\n",
       "      <td>10</td>\n",
       "      <td>00:00:00</td>\n",
       "      <td>0</td>\n",
       "      <td>AV LARRAZABAL Y GRAL VILLEGAS CONRADO</td>\n",
       "      <td>AVENIDA</td>\n",
       "      <td>LARRAZABAL AV.</td>\n",
       "      <td>NaN</td>\n",
       "      <td>VILLEGAS, CONRADO, GRAL.</td>\n",
       "      <td>LARRAZABAL AV. y VILLEGAS, CONRADO, GRAL.</td>\n",
       "      <td>8</td>\n",
       "      <td>Point (99840.65224780 94269.16534422)</td>\n",
       "      <td>-58.46503904</td>\n",
       "      <td>-34.68092974</td>\n",
       "      <td>MOTO-SD</td>\n",
       "      <td>MOTO</td>\n",
       "      <td>SD</td>\n",
       "    </tr>\n",
       "    <tr>\n",
       "      <th>4</th>\n",
       "      <td>2016-0005</td>\n",
       "      <td>1</td>\n",
       "      <td>2016-01-21</td>\n",
       "      <td>2016</td>\n",
       "      <td>1</td>\n",
       "      <td>21</td>\n",
       "      <td>05:20:00</td>\n",
       "      <td>5</td>\n",
       "      <td>AV SAN JUAN Y PRESIDENTE LUIS SAENZ PEÑA</td>\n",
       "      <td>AVENIDA</td>\n",
       "      <td>SAN JUAN AV.</td>\n",
       "      <td>NaN</td>\n",
       "      <td>SAENZ PE?A, LUIS, PRES.</td>\n",
       "      <td>SAN JUAN AV. y SAENZ PEÃ‘A, LUIS, PRES.</td>\n",
       "      <td>1</td>\n",
       "      <td>Point (106980.32827929 100752.16915795)</td>\n",
       "      <td>-58.38718297</td>\n",
       "      <td>-34.62246630</td>\n",
       "      <td>MOTO-PASAJEROS</td>\n",
       "      <td>MOTO</td>\n",
       "      <td>PASAJEROS</td>\n",
       "    </tr>\n",
       "  </tbody>\n",
       "</table>\n",
       "</div>"
      ],
      "text/plain": [
       "          ID  N_VICTIMAS      FECHA  AAAA  MM  DD      HORA HH  \\\n",
       "0  2016-0001           1 2016-01-01  2016   1   1  04:00:00  4   \n",
       "1  2016-0002           1 2016-01-02  2016   1   2  01:15:00  1   \n",
       "2  2016-0003           1 2016-01-03  2016   1   3  07:00:00  7   \n",
       "3  2016-0004           1 2016-01-10  2016   1  10  00:00:00  0   \n",
       "4  2016-0005           1 2016-01-21  2016   1  21  05:20:00  5   \n",
       "\n",
       "                             LUGAR_DEL_HECHO TIPO_DE_CALLE             Calle  \\\n",
       "0  AV PIEDRA BUENA Y AV FERNANDEZ DE LA CRUZ       AVENIDA  PIEDRA BUENA AV.   \n",
       "1          AV GRAL PAZ  Y AV DE LOS CORRALES      GRAL PAZ    PAZ, GRAL. AV.   \n",
       "2                         AV ENTRE RIOS 2034       AVENIDA    ENTRE RIOS AV.   \n",
       "3      AV LARRAZABAL Y GRAL VILLEGAS CONRADO       AVENIDA    LARRAZABAL AV.   \n",
       "4  AV SAN JUAN Y PRESIDENTE LUIS SAENZ PEÑA        AVENIDA      SAN JUAN AV.   \n",
       "\n",
       "   Altura                                Cruce  \\\n",
       "0     NaN  FERNANDEZ DE LA CRUZ, F., GRAL. AV.   \n",
       "1     NaN                  DE LOS CORRALES AV.   \n",
       "2  2034.0                                  NaN   \n",
       "3     NaN             VILLEGAS, CONRADO, GRAL.   \n",
       "4     NaN              SAENZ PE?A, LUIS, PRES.   \n",
       "\n",
       "                               Dirección Normalizada  COMUNA  \\\n",
       "0  PIEDRA BUENA AV. y FERNANDEZ DE LA CRUZ, F., G...       8   \n",
       "1               PAZ, GRAL. AV. y DE LOS CORRALES AV.       9   \n",
       "2                                ENTRE RIOS AV. 2034       1   \n",
       "3          LARRAZABAL AV. y VILLEGAS, CONRADO, GRAL.       8   \n",
       "4            SAN JUAN AV. y SAENZ PEÃ‘A, LUIS, PRES.       1   \n",
       "\n",
       "                                 XY (CABA)         pos x         pos y  \\\n",
       "0    Point (98896.78238426 93532.43437792)  -58.47533969  -34.68757022   \n",
       "1    Point (95832.05571093 95505.41641999)  -58.50877521  -34.66977709   \n",
       "2   Point (106684.29090040 99706.57687843)  -58.39040293  -34.63189362   \n",
       "3    Point (99840.65224780 94269.16534422)  -58.46503904  -34.68092974   \n",
       "4  Point (106980.32827929 100752.16915795)  -58.38718297  -34.62246630   \n",
       "\n",
       "    PARTICIPANTES VICTIMA    ACUSADO  \n",
       "0       MOTO-AUTO    MOTO       AUTO  \n",
       "1  AUTO-PASAJEROS    AUTO  PASAJEROS  \n",
       "2       MOTO-AUTO    MOTO       AUTO  \n",
       "3         MOTO-SD    MOTO         SD  \n",
       "4  MOTO-PASAJEROS    MOTO  PASAJEROS  "
      ]
     },
     "execution_count": 5,
     "metadata": {},
     "output_type": "execute_result"
    }
   ],
   "source": [
    "hechos.head()"
   ]
  },
  {
   "cell_type": "code",
   "execution_count": 6,
   "metadata": {},
   "outputs": [
    {
     "name": "stdout",
     "output_type": "stream",
     "text": [
      "Comunas únicas ordenadas: [0, 1, 2, 3, 4, 5, 6, 7, 8, 9, 10, 11, 12, 13, 14, 15]\n",
      "Número de comunas: 16\n"
     ]
    }
   ],
   "source": [
    "# Verificar que el numero de comunas sean correcto\n",
    "numero_comunas = hechos['COMUNA'].unique()\n",
    "numero_comunas_ordenado = sorted(numero_comunas)  # Ordenar la lista de comunas únicas\n",
    "\n",
    "print(\"Comunas únicas ordenadas:\", numero_comunas_ordenado)\n",
    "print(\"Número de comunas:\", len(numero_comunas_ordenado))\n"
   ]
  },
  {
   "cell_type": "code",
   "execution_count": 7,
   "metadata": {},
   "outputs": [
    {
     "name": "stdout",
     "output_type": "stream",
     "text": [
      "            ID  N_VICTIMAS      FECHA  AAAA  MM  DD      HORA  HH  \\\n",
      "119  2016-0151           1 2016-11-18  2016  11  18  20:35:00  20   \n",
      "139  2016-0174           1 2016-12-27  2016  12  27  00:00:00   0   \n",
      "\n",
      "          LUGAR_DEL_HECHO TIPO_DE_CALLE                 Calle  Altura Cruce  \\\n",
      "119                    SD         CALLE                   NaN     NaN   NaN   \n",
      "139  AUTOPISTA 25 DE MAYO     AUTOPISTA  AUTOPISTA 25 DE MAYO     NaN   NaN   \n",
      "\n",
      "    Dirección Normalizada  COMUNA    XY (CABA) pos x pos y PARTICIPANTES  \\\n",
      "119                   NaN       0  Point (. .)     .     .     PEATON-SD   \n",
      "139  AUTOPISTA 25 DE MAYO       0  Point (. .)     .     .         SD-SD   \n",
      "\n",
      "    VICTIMA ACUSADO  \n",
      "119  PEATON      SD  \n",
      "139      SD      SD  \n"
     ]
    }
   ],
   "source": [
    "# Identificar las comunas con nemero '0'\n",
    "print(hechos[hechos['COMUNA'] == 0])"
   ]
  },
  {
   "cell_type": "markdown",
   "metadata": {},
   "source": [
    "- Identificar  los datos con valores '0' para contemplar, que se tengan en cuenta para su posterior tratamiento "
   ]
  },
  {
   "cell_type": "markdown",
   "metadata": {},
   "source": [
    "***\n",
    "### Agrega informacion complementaria de los nombres de Barrios y Area"
   ]
  },
  {
   "cell_type": "markdown",
   "metadata": {},
   "source": [
    "- Informacion sobre las comunas obtenida de \"URL\": https://data.buenosaires.gob.ar/dataset/comunas"
   ]
  },
  {
   "cell_type": "code",
   "execution_count": 8,
   "metadata": {},
   "outputs": [],
   "source": [
    "# Se carga el Excel en DataFrame en una Variable\n",
    "comunas_barrios_area = pd.read_excel('Data\\comunas_barrios_area.xlsx')"
   ]
  },
  {
   "cell_type": "markdown",
   "metadata": {},
   "source": [
    "***\n",
    "### Agrega informacion complementaria de los cantidad de habitantes"
   ]
  },
  {
   "cell_type": "markdown",
   "metadata": {},
   "source": [
    "- Informacion sobre las comunas obtenida de \"URL\": https://data.buenosaires.gob.ar/dataset/estructura-demografica/resource/a24fc775-ad6e-4bb0-8a7a-2283c2adea34-xlsx"
   ]
  },
  {
   "cell_type": "code",
   "execution_count": 9,
   "metadata": {},
   "outputs": [],
   "source": [
    "# Se carga el Excel en DataFrame en una Variable\n",
    "comunas_habitantes = pd.read_excel('Data\\comunas_habitantes.xlsx')"
   ]
  },
  {
   "cell_type": "markdown",
   "metadata": {},
   "source": [
    "***\n",
    "### Informacion general y visualizacion del DataFrame comunas_barrios_area y comunas_habitantes"
   ]
  },
  {
   "cell_type": "code",
   "execution_count": 10,
   "metadata": {},
   "outputs": [
    {
     "name": "stdout",
     "output_type": "stream",
     "text": [
      "<class 'pandas.core.frame.DataFrame'>\n",
      "RangeIndex: 15 entries, 0 to 14\n",
      "Data columns (total 6 columns):\n",
      " #   Column     Non-Null Count  Dtype  \n",
      "---  ------     --------------  -----  \n",
      " 0   ID         15 non-null     int64  \n",
      " 1   OBJETO     15 non-null     object \n",
      " 2   COMUNAS    15 non-null     int64  \n",
      " 3   BARRIOS    15 non-null     object \n",
      " 4   PERIMETRO  15 non-null     float64\n",
      " 5   AREA       15 non-null     float64\n",
      "dtypes: float64(2), int64(2), object(2)\n",
      "memory usage: 848.0+ bytes\n"
     ]
    }
   ],
   "source": [
    "comunas_barrios_area.info()"
   ]
  },
  {
   "cell_type": "code",
   "execution_count": 11,
   "metadata": {},
   "outputs": [
    {
     "data": {
      "text/html": [
       "<div>\n",
       "<style scoped>\n",
       "    .dataframe tbody tr th:only-of-type {\n",
       "        vertical-align: middle;\n",
       "    }\n",
       "\n",
       "    .dataframe tbody tr th {\n",
       "        vertical-align: top;\n",
       "    }\n",
       "\n",
       "    .dataframe thead th {\n",
       "        text-align: right;\n",
       "    }\n",
       "</style>\n",
       "<table border=\"1\" class=\"dataframe\">\n",
       "  <thead>\n",
       "    <tr style=\"text-align: right;\">\n",
       "      <th></th>\n",
       "      <th>ID</th>\n",
       "      <th>OBJETO</th>\n",
       "      <th>COMUNAS</th>\n",
       "      <th>BARRIOS</th>\n",
       "      <th>PERIMETRO</th>\n",
       "      <th>AREA</th>\n",
       "    </tr>\n",
       "  </thead>\n",
       "  <tbody>\n",
       "    <tr>\n",
       "      <th>0</th>\n",
       "      <td>1</td>\n",
       "      <td>LIMITE COMUNAL</td>\n",
       "      <td>2</td>\n",
       "      <td>RECOLETA</td>\n",
       "      <td>21452.838648</td>\n",
       "      <td>6.317265e+06</td>\n",
       "    </tr>\n",
       "    <tr>\n",
       "      <th>1</th>\n",
       "      <td>2</td>\n",
       "      <td>LIMITE COMUNAL</td>\n",
       "      <td>5</td>\n",
       "      <td>ALMAGRO - BOEDO</td>\n",
       "      <td>12323.432479</td>\n",
       "      <td>6.660603e+06</td>\n",
       "    </tr>\n",
       "    <tr>\n",
       "      <th>2</th>\n",
       "      <td>3</td>\n",
       "      <td>LIMITE COMUNAL</td>\n",
       "      <td>6</td>\n",
       "      <td>CABALLITO</td>\n",
       "      <td>10990.964471</td>\n",
       "      <td>6.851029e+06</td>\n",
       "    </tr>\n",
       "    <tr>\n",
       "      <th>3</th>\n",
       "      <td>4</td>\n",
       "      <td>LIMITE COMUNAL</td>\n",
       "      <td>7</td>\n",
       "      <td>FLORES - PARQUE CHACABUCO</td>\n",
       "      <td>17972.257870</td>\n",
       "      <td>1.242290e+07</td>\n",
       "    </tr>\n",
       "    <tr>\n",
       "      <th>4</th>\n",
       "      <td>5</td>\n",
       "      <td>LIMITE COMUNAL</td>\n",
       "      <td>9</td>\n",
       "      <td>LINIERS - MATADEROS - PARQUE AVELLANEDA</td>\n",
       "      <td>21411.738344</td>\n",
       "      <td>1.650531e+07</td>\n",
       "    </tr>\n",
       "  </tbody>\n",
       "</table>\n",
       "</div>"
      ],
      "text/plain": [
       "   ID          OBJETO  COMUNAS                                  BARRIOS  \\\n",
       "0   1  LIMITE COMUNAL        2                                 RECOLETA   \n",
       "1   2  LIMITE COMUNAL        5                          ALMAGRO - BOEDO   \n",
       "2   3  LIMITE COMUNAL        6                                CABALLITO   \n",
       "3   4  LIMITE COMUNAL        7                FLORES - PARQUE CHACABUCO   \n",
       "4   5  LIMITE COMUNAL        9  LINIERS - MATADEROS - PARQUE AVELLANEDA   \n",
       "\n",
       "      PERIMETRO          AREA  \n",
       "0  21452.838648  6.317265e+06  \n",
       "1  12323.432479  6.660603e+06  \n",
       "2  10990.964471  6.851029e+06  \n",
       "3  17972.257870  1.242290e+07  \n",
       "4  21411.738344  1.650531e+07  "
      ]
     },
     "execution_count": 11,
     "metadata": {},
     "output_type": "execute_result"
    }
   ],
   "source": [
    "comunas_barrios_area.head()"
   ]
  },
  {
   "cell_type": "code",
   "execution_count": 12,
   "metadata": {},
   "outputs": [
    {
     "name": "stdout",
     "output_type": "stream",
     "text": [
      "<class 'pandas.core.frame.DataFrame'>\n",
      "RangeIndex: 15 entries, 0 to 14\n",
      "Data columns (total 2 columns):\n",
      " #   Column     Non-Null Count  Dtype\n",
      "---  ------     --------------  -----\n",
      " 0   COMUNA     15 non-null     int64\n",
      " 1   POBLACION  15 non-null     int64\n",
      "dtypes: int64(2)\n",
      "memory usage: 368.0 bytes\n"
     ]
    }
   ],
   "source": [
    "comunas_habitantes.info()"
   ]
  },
  {
   "cell_type": "code",
   "execution_count": 13,
   "metadata": {},
   "outputs": [
    {
     "data": {
      "text/html": [
       "<div>\n",
       "<style scoped>\n",
       "    .dataframe tbody tr th:only-of-type {\n",
       "        vertical-align: middle;\n",
       "    }\n",
       "\n",
       "    .dataframe tbody tr th {\n",
       "        vertical-align: top;\n",
       "    }\n",
       "\n",
       "    .dataframe thead th {\n",
       "        text-align: right;\n",
       "    }\n",
       "</style>\n",
       "<table border=\"1\" class=\"dataframe\">\n",
       "  <thead>\n",
       "    <tr style=\"text-align: right;\">\n",
       "      <th></th>\n",
       "      <th>COMUNA</th>\n",
       "      <th>POBLACION</th>\n",
       "    </tr>\n",
       "  </thead>\n",
       "  <tbody>\n",
       "    <tr>\n",
       "      <th>0</th>\n",
       "      <td>1</td>\n",
       "      <td>253271</td>\n",
       "    </tr>\n",
       "    <tr>\n",
       "      <th>1</th>\n",
       "      <td>2</td>\n",
       "      <td>149720</td>\n",
       "    </tr>\n",
       "    <tr>\n",
       "      <th>2</th>\n",
       "      <td>3</td>\n",
       "      <td>192763</td>\n",
       "    </tr>\n",
       "    <tr>\n",
       "      <th>3</th>\n",
       "      <td>4</td>\n",
       "      <td>238809</td>\n",
       "    </tr>\n",
       "    <tr>\n",
       "      <th>4</th>\n",
       "      <td>5</td>\n",
       "      <td>186956</td>\n",
       "    </tr>\n",
       "  </tbody>\n",
       "</table>\n",
       "</div>"
      ],
      "text/plain": [
       "   COMUNA  POBLACION\n",
       "0       1     253271\n",
       "1       2     149720\n",
       "2       3     192763\n",
       "3       4     238809\n",
       "4       5     186956"
      ]
     },
     "execution_count": 13,
     "metadata": {},
     "output_type": "execute_result"
    }
   ],
   "source": [
    "comunas_habitantes.head()"
   ]
  },
  {
   "cell_type": "markdown",
   "metadata": {},
   "source": [
    "***\n",
    "***\n",
    "## DataFrame \"hechos\":\n"
   ]
  },
  {
   "cell_type": "markdown",
   "metadata": {},
   "source": [
    "### Registros duplicados:"
   ]
  },
  {
   "cell_type": "code",
   "execution_count": 14,
   "metadata": {},
   "outputs": [
    {
     "name": "stdout",
     "output_type": "stream",
     "text": [
      "Cantidad de registros duplicados: 0\n"
     ]
    }
   ],
   "source": [
    "# Controla los duplicados\n",
    "hechos_duplicados = hechos.duplicated()\n",
    "print(f'Cantidad de registros duplicados: {hechos_duplicados.sum()}')"
   ]
  },
  {
   "cell_type": "markdown",
   "metadata": {},
   "source": [
    "***\n",
    "### Valores Nulos:"
   ]
  },
  {
   "cell_type": "code",
   "execution_count": 15,
   "metadata": {},
   "outputs": [
    {
     "name": "stdout",
     "output_type": "stream",
     "text": [
      "Calle: 1 valores nulos\n",
      "Altura: 567 valores nulos\n",
      "Cruce: 171 valores nulos\n",
      "Dirección Normalizada: 8 valores nulos\n",
      "\n",
      "Valores nulos totales: 747\n"
     ]
    }
   ],
   "source": [
    "# Buscar los valores nulos de las columnas\n",
    "valores_nulos_hechos = hechos.isna().sum()\n",
    "\n",
    "for columna, cantidad_nulos in valores_nulos_hechos.items():\n",
    "    if cantidad_nulos > 0:\n",
    "        print(f\"{columna}: {cantidad_nulos} valores nulos\")\n",
    "        \n",
    "print(f'\\nValores nulos totales: {valores_nulos_hechos.sum()}')\n"
   ]
  },
  {
   "cell_type": "code",
   "execution_count": 16,
   "metadata": {},
   "outputs": [
    {
     "name": "stdout",
     "output_type": "stream",
     "text": [
      "La cantidad Total de registros es : 696\n",
      "Cantidad de registros completos son : 654\n",
      "El número de filas donde \"Altura\" y \"Cruce\" donde ambos tienen valores nulos es : 42\n"
     ]
    }
   ],
   "source": [
    "# Verificar los regitros nulos en ambas columnas y compararlos con el total\n",
    "datos_nulos_comparados = hechos[(hechos['Altura'].isna()) & (hechos['Cruce'].isna() )]\n",
    "datos_nulos_comparados_total = datos_nulos_comparados.shape[0]\n",
    "hechos_registros = hechos.shape[0]\n",
    "print(f'La cantidad Total de registros es : {hechos_registros}\\nCantidad de registros completos son : {hechos_registros -datos_nulos_comparados_total}\\nEl número de filas donde \"Altura\" y \"Cruce\" donde ambos tienen valores nulos es : {datos_nulos_comparados_total}')"
   ]
  },
  {
   "cell_type": "markdown",
   "metadata": {},
   "source": [
    "- Se parean las columnas 'Altura' y 'Cruce' para verificar si existen registros con valores nulos en ambas columnas. Esto se hace para verificar que se tengan los datos completos de las direcciones."
   ]
  },
  {
   "cell_type": "code",
   "execution_count": 17,
   "metadata": {},
   "outputs": [
    {
     "name": "stdout",
     "output_type": "stream",
     "text": [
      "Cantidad de registros sin datos sobre la \"Dirección Normalizada\", \"Altura\" y \"Cruce\" en el mismo registro: 8\n"
     ]
    },
    {
     "data": {
      "text/html": [
       "<div>\n",
       "<style scoped>\n",
       "    .dataframe tbody tr th:only-of-type {\n",
       "        vertical-align: middle;\n",
       "    }\n",
       "\n",
       "    .dataframe tbody tr th {\n",
       "        vertical-align: top;\n",
       "    }\n",
       "\n",
       "    .dataframe thead th {\n",
       "        text-align: right;\n",
       "    }\n",
       "</style>\n",
       "<table border=\"1\" class=\"dataframe\">\n",
       "  <thead>\n",
       "    <tr style=\"text-align: right;\">\n",
       "      <th></th>\n",
       "      <th>ID</th>\n",
       "      <th>N_VICTIMAS</th>\n",
       "      <th>FECHA</th>\n",
       "      <th>AAAA</th>\n",
       "      <th>MM</th>\n",
       "      <th>DD</th>\n",
       "      <th>HORA</th>\n",
       "      <th>HH</th>\n",
       "      <th>LUGAR_DEL_HECHO</th>\n",
       "      <th>TIPO_DE_CALLE</th>\n",
       "      <th>Calle</th>\n",
       "      <th>Altura</th>\n",
       "      <th>Cruce</th>\n",
       "      <th>Dirección Normalizada</th>\n",
       "      <th>COMUNA</th>\n",
       "      <th>XY (CABA)</th>\n",
       "      <th>pos x</th>\n",
       "      <th>pos y</th>\n",
       "      <th>PARTICIPANTES</th>\n",
       "      <th>VICTIMA</th>\n",
       "      <th>ACUSADO</th>\n",
       "    </tr>\n",
       "  </thead>\n",
       "  <tbody>\n",
       "    <tr>\n",
       "      <th>38</th>\n",
       "      <td>2016-0052</td>\n",
       "      <td>1</td>\n",
       "      <td>2016-04-20</td>\n",
       "      <td>2016</td>\n",
       "      <td>4</td>\n",
       "      <td>20</td>\n",
       "      <td>20:00:00</td>\n",
       "      <td>20</td>\n",
       "      <td>AUTOPISTA LUGONES PK 10000</td>\n",
       "      <td>AUTOPISTA</td>\n",
       "      <td>LUGONES, LEOPOLDO AV.</td>\n",
       "      <td>NaN</td>\n",
       "      <td>NaN</td>\n",
       "      <td>NaN</td>\n",
       "      <td>13</td>\n",
       "      <td>Point (. .)</td>\n",
       "      <td>.</td>\n",
       "      <td>.</td>\n",
       "      <td>MOTO-SD</td>\n",
       "      <td>MOTO</td>\n",
       "      <td>SD</td>\n",
       "    </tr>\n",
       "    <tr>\n",
       "      <th>106</th>\n",
       "      <td>2016-0136</td>\n",
       "      <td>1</td>\n",
       "      <td>2016-10-25</td>\n",
       "      <td>2016</td>\n",
       "      <td>10</td>\n",
       "      <td>25</td>\n",
       "      <td>00:00:00</td>\n",
       "      <td>0</td>\n",
       "      <td>AU BUENOS AIRES - LA PLATA KM. 4</td>\n",
       "      <td>AUTOPISTA</td>\n",
       "      <td>AUTOPISTA BUENOS AIRES - LA PLATA</td>\n",
       "      <td>NaN</td>\n",
       "      <td>NaN</td>\n",
       "      <td>NaN</td>\n",
       "      <td>4</td>\n",
       "      <td>Point (. .)</td>\n",
       "      <td>.</td>\n",
       "      <td>.</td>\n",
       "      <td>MOTO-CARGAS</td>\n",
       "      <td>MOTO</td>\n",
       "      <td>CARGAS</td>\n",
       "    </tr>\n",
       "    <tr>\n",
       "      <th>119</th>\n",
       "      <td>2016-0151</td>\n",
       "      <td>1</td>\n",
       "      <td>2016-11-18</td>\n",
       "      <td>2016</td>\n",
       "      <td>11</td>\n",
       "      <td>18</td>\n",
       "      <td>20:35:00</td>\n",
       "      <td>20</td>\n",
       "      <td>SD</td>\n",
       "      <td>CALLE</td>\n",
       "      <td>NaN</td>\n",
       "      <td>NaN</td>\n",
       "      <td>NaN</td>\n",
       "      <td>NaN</td>\n",
       "      <td>0</td>\n",
       "      <td>Point (. .)</td>\n",
       "      <td>.</td>\n",
       "      <td>.</td>\n",
       "      <td>PEATON-SD</td>\n",
       "      <td>PEATON</td>\n",
       "      <td>SD</td>\n",
       "    </tr>\n",
       "    <tr>\n",
       "      <th>180</th>\n",
       "      <td>2017-0050</td>\n",
       "      <td>2</td>\n",
       "      <td>2017-04-28</td>\n",
       "      <td>2017</td>\n",
       "      <td>4</td>\n",
       "      <td>28</td>\n",
       "      <td>11:08:08</td>\n",
       "      <td>11</td>\n",
       "      <td>AU PERITO MORENO Y RAMAL ENLACE AU1/AU6</td>\n",
       "      <td>AUTOPISTA</td>\n",
       "      <td>AUTOPISTA PERITO MORENO</td>\n",
       "      <td>NaN</td>\n",
       "      <td>NaN</td>\n",
       "      <td>NaN</td>\n",
       "      <td>9</td>\n",
       "      <td>Point (. .)</td>\n",
       "      <td>.</td>\n",
       "      <td>.</td>\n",
       "      <td>MOTO-CARGAS</td>\n",
       "      <td>MOTO</td>\n",
       "      <td>CARGAS</td>\n",
       "    </tr>\n",
       "    <tr>\n",
       "      <th>181</th>\n",
       "      <td>2017-0051</td>\n",
       "      <td>1</td>\n",
       "      <td>2017-05-01</td>\n",
       "      <td>2017</td>\n",
       "      <td>5</td>\n",
       "      <td>1</td>\n",
       "      <td>03:47:47</td>\n",
       "      <td>3</td>\n",
       "      <td>AU DELLEPIANE 2400</td>\n",
       "      <td>AUTOPISTA</td>\n",
       "      <td>AUTOPISTA DELLEPIANE LUIS TTE. GRAL.</td>\n",
       "      <td>NaN</td>\n",
       "      <td>NaN</td>\n",
       "      <td>NaN</td>\n",
       "      <td>7</td>\n",
       "      <td>Point (. .)</td>\n",
       "      <td>.</td>\n",
       "      <td>.</td>\n",
       "      <td>AUTO-AUTO</td>\n",
       "      <td>AUTO</td>\n",
       "      <td>AUTO</td>\n",
       "    </tr>\n",
       "    <tr>\n",
       "      <th>313</th>\n",
       "      <td>2018-0039</td>\n",
       "      <td>1</td>\n",
       "      <td>2018-04-21</td>\n",
       "      <td>2018</td>\n",
       "      <td>4</td>\n",
       "      <td>21</td>\n",
       "      <td>22:15:00</td>\n",
       "      <td>22</td>\n",
       "      <td>AUTOPISTA LUGONES KM 4.7</td>\n",
       "      <td>AUTOPISTA</td>\n",
       "      <td>LUGONES, LEOPOLDO AV.</td>\n",
       "      <td>NaN</td>\n",
       "      <td>NaN</td>\n",
       "      <td>NaN</td>\n",
       "      <td>14</td>\n",
       "      <td>Point (. .)</td>\n",
       "      <td>.</td>\n",
       "      <td>.</td>\n",
       "      <td>PEATON-AUTO</td>\n",
       "      <td>PEATON</td>\n",
       "      <td>AUTO</td>\n",
       "    </tr>\n",
       "    <tr>\n",
       "      <th>546</th>\n",
       "      <td>2020-0026</td>\n",
       "      <td>1</td>\n",
       "      <td>2020-05-17</td>\n",
       "      <td>2020</td>\n",
       "      <td>5</td>\n",
       "      <td>17</td>\n",
       "      <td>06:40:00</td>\n",
       "      <td>6</td>\n",
       "      <td>LUGONES, LEOPOLDO AV. KM 6,1</td>\n",
       "      <td>AUTOPISTA</td>\n",
       "      <td>LUGONES, LEOPOLDO AV.</td>\n",
       "      <td>NaN</td>\n",
       "      <td>NaN</td>\n",
       "      <td>NaN</td>\n",
       "      <td>14</td>\n",
       "      <td>Point (. .)</td>\n",
       "      <td>.</td>\n",
       "      <td>.</td>\n",
       "      <td>MOTO-OBJETO FIJO</td>\n",
       "      <td>MOTO</td>\n",
       "      <td>OBJETO FIJO</td>\n",
       "    </tr>\n",
       "    <tr>\n",
       "      <th>621</th>\n",
       "      <td>2021-0023</td>\n",
       "      <td>1</td>\n",
       "      <td>2021-03-01</td>\n",
       "      <td>2021</td>\n",
       "      <td>3</td>\n",
       "      <td>1</td>\n",
       "      <td>09:20:00</td>\n",
       "      <td>9</td>\n",
       "      <td>AU BUENOS AIRES LA PLATA  KM 4,5</td>\n",
       "      <td>AUTOPISTA</td>\n",
       "      <td>AUTOPISTA BUENOS AIRES - LA PLATA</td>\n",
       "      <td>NaN</td>\n",
       "      <td>NaN</td>\n",
       "      <td>NaN</td>\n",
       "      <td>4</td>\n",
       "      <td>Point (. .)</td>\n",
       "      <td>.</td>\n",
       "      <td>.</td>\n",
       "      <td>MOTO-CARGAS</td>\n",
       "      <td>MOTO</td>\n",
       "      <td>CARGAS</td>\n",
       "    </tr>\n",
       "  </tbody>\n",
       "</table>\n",
       "</div>"
      ],
      "text/plain": [
       "            ID  N_VICTIMAS      FECHA  AAAA  MM  DD      HORA  HH  \\\n",
       "38   2016-0052           1 2016-04-20  2016   4  20  20:00:00  20   \n",
       "106  2016-0136           1 2016-10-25  2016  10  25  00:00:00   0   \n",
       "119  2016-0151           1 2016-11-18  2016  11  18  20:35:00  20   \n",
       "180  2017-0050           2 2017-04-28  2017   4  28  11:08:08  11   \n",
       "181  2017-0051           1 2017-05-01  2017   5   1  03:47:47   3   \n",
       "313  2018-0039           1 2018-04-21  2018   4  21  22:15:00  22   \n",
       "546  2020-0026           1 2020-05-17  2020   5  17  06:40:00   6   \n",
       "621  2021-0023           1 2021-03-01  2021   3   1  09:20:00   9   \n",
       "\n",
       "                             LUGAR_DEL_HECHO TIPO_DE_CALLE  \\\n",
       "38                AUTOPISTA LUGONES PK 10000     AUTOPISTA   \n",
       "106         AU BUENOS AIRES - LA PLATA KM. 4     AUTOPISTA   \n",
       "119                                       SD         CALLE   \n",
       "180  AU PERITO MORENO Y RAMAL ENLACE AU1/AU6     AUTOPISTA   \n",
       "181                       AU DELLEPIANE 2400     AUTOPISTA   \n",
       "313                 AUTOPISTA LUGONES KM 4.7     AUTOPISTA   \n",
       "546             LUGONES, LEOPOLDO AV. KM 6,1     AUTOPISTA   \n",
       "621         AU BUENOS AIRES LA PLATA  KM 4,5     AUTOPISTA   \n",
       "\n",
       "                                    Calle  Altura Cruce Dirección Normalizada  \\\n",
       "38                  LUGONES, LEOPOLDO AV.     NaN   NaN                   NaN   \n",
       "106     AUTOPISTA BUENOS AIRES - LA PLATA     NaN   NaN                   NaN   \n",
       "119                                   NaN     NaN   NaN                   NaN   \n",
       "180               AUTOPISTA PERITO MORENO     NaN   NaN                   NaN   \n",
       "181  AUTOPISTA DELLEPIANE LUIS TTE. GRAL.     NaN   NaN                   NaN   \n",
       "313                 LUGONES, LEOPOLDO AV.     NaN   NaN                   NaN   \n",
       "546                 LUGONES, LEOPOLDO AV.     NaN   NaN                   NaN   \n",
       "621     AUTOPISTA BUENOS AIRES - LA PLATA     NaN   NaN                   NaN   \n",
       "\n",
       "     COMUNA    XY (CABA) pos x pos y     PARTICIPANTES VICTIMA      ACUSADO  \n",
       "38       13  Point (. .)     .     .           MOTO-SD    MOTO           SD  \n",
       "106       4  Point (. .)     .     .       MOTO-CARGAS    MOTO       CARGAS  \n",
       "119       0  Point (. .)     .     .         PEATON-SD  PEATON           SD  \n",
       "180       9  Point (. .)     .     .       MOTO-CARGAS    MOTO       CARGAS  \n",
       "181       7  Point (. .)     .     .         AUTO-AUTO    AUTO         AUTO  \n",
       "313      14  Point (. .)     .     .       PEATON-AUTO  PEATON         AUTO  \n",
       "546      14  Point (. .)     .     .  MOTO-OBJETO FIJO    MOTO  OBJETO FIJO  \n",
       "621       4  Point (. .)     .     .       MOTO-CARGAS    MOTO       CARGAS  "
      ]
     },
     "execution_count": 17,
     "metadata": {},
     "output_type": "execute_result"
    }
   ],
   "source": [
    "# Registros sin datos de direccion\n",
    "hechos_sin_direccion = hechos[(hechos['Dirección Normalizada'].isna() & hechos['Altura'].isna()) & (hechos['Cruce'].isna())]\n",
    "hechos_sin_direccion_total = hechos_sin_direccion.shape[0]\n",
    "print(f'Cantidad de registros sin datos sobre la \"Dirección Normalizada\", \"Altura\" y \"Cruce\" en el mismo registro: {hechos_sin_direccion_total}')\n",
    "hechos_sin_direccion.head(8)"
   ]
  },
  {
   "cell_type": "markdown",
   "metadata": {},
   "source": [
    "### Rellenar los valores nulos de la columna 'Dirección Normalizada'"
   ]
  },
  {
   "cell_type": "code",
   "execution_count": 18,
   "metadata": {},
   "outputs": [
    {
     "name": "stderr",
     "output_type": "stream",
     "text": [
      "C:\\Users\\Blasferp\\AppData\\Local\\Temp\\ipykernel_10020\\4240963190.py:2: SettingWithCopyWarning: \n",
      "A value is trying to be set on a copy of a slice from a DataFrame\n",
      "\n",
      "See the caveats in the documentation: https://pandas.pydata.org/pandas-docs/stable/user_guide/indexing.html#returning-a-view-versus-a-copy\n",
      "  hechos_sin_direccion['Dirección Normalizada'].fillna(hechos_sin_direccion['Calle'], inplace=True)\n"
     ]
    }
   ],
   "source": [
    "# Imputa Valores Nulos de la columna  'Dirección Normalizada'\n",
    "hechos_sin_direccion['Dirección Normalizada'].fillna(hechos_sin_direccion['Calle'], inplace=True)"
   ]
  },
  {
   "cell_type": "code",
   "execution_count": 19,
   "metadata": {},
   "outputs": [
    {
     "name": "stdout",
     "output_type": "stream",
     "text": [
      "Cantidad de datos sin direcion antriormente : 8\n",
      "Cantidad de datos sin direcion luego de imputacion : 8\n"
     ]
    }
   ],
   "source": [
    "# Cantidad de nulos en la direccion\n",
    "print(f\"Cantidad de datos sin direcion antriormente : {valores_nulos_hechos['Dirección Normalizada']}\\nCantidad de datos sin direcion luego de imputacion : {hechos['Dirección Normalizada'].isna().sum()}\")"
   ]
  },
  {
   "cell_type": "markdown",
   "metadata": {},
   "source": [
    "- Al completar los datos de la columna 'Dirección Normalizada' con la información de la columna 'Calle', se tiene mayor informacion sobre los sinisetros."
   ]
  },
  {
   "cell_type": "markdown",
   "metadata": {},
   "source": [
    "### Extraer los valores de ubicacion como km o pk para para completar los datos de la columna 'Dirección Normalizada' asi tener lo datos completos"
   ]
  },
  {
   "cell_type": "code",
   "execution_count": 20,
   "metadata": {},
   "outputs": [
    {
     "name": "stdout",
     "output_type": "stream",
     "text": [
      "                                       LUGAR_DEL_HECHO KM_PK_EXTRAIDO\n",
      "35   AUTOPISTA 1 SUR PRESIDENTE ARTURO FRONDIZI KM....          KM. 0\n",
      "38                          AUTOPISTA LUGONES PK 10000       PK 10000\n",
      "71        AUTOPISTA DELLEPIANE LUIS TTE. GRAL. KM. 2,3          KM. 2\n",
      "91          AUTOPISTA 1 SUR PTE ARTURO FRONDIZI KM 2.9           KM 2\n",
      "106                   AU BUENOS AIRES - LA PLATA KM. 4          KM. 4\n",
      "168                               AV. GRAL. PAZ KM. 10         KM. 10\n",
      "218  AV. LEOPOLDO LUGONES KM 7,5, ALTURA PUENTE SCA...         KM 7,5\n",
      "281                           AU Perito Moreno  KM 0.6           KM 0\n",
      "313                           AUTOPISTA LUGONES KM 4.7           KM 4\n",
      "365  AU Perito Moreno KM 1.8 ALTURA BARRAGAN SENTID...           KM 1\n",
      "513                     AUTOPISTA PERITO MORENO KM 5,6         KM 5,6\n",
      "546                       LUGONES, LEOPOLDO AV. KM 6,1         KM 6,1\n",
      "599                                  AU FRONDIZI KM. 3          KM. 3\n",
      "601                              AU 25 DE MAYO KM. 3,7          KM. 3\n",
      "621                   AU BUENOS AIRES LA PLATA  KM 4,5         KM 4,5\n",
      "655           AU ILLIA KM 3.2, ALTURA CABINAS DE PEAJE           KM 3\n",
      "665                 AU FRONDIZI KM 2,9 (ALTURA BRASIL)         KM 2,9\n"
     ]
    }
   ],
   "source": [
    "# Modifica el tipo de variable de la columna\n",
    "hechos['LUGAR_DEL_HECHO'] = hechos['LUGAR_DEL_HECHO'].astype(str)\n",
    "\n",
    "# Extraer 'KM' y el número completo, 'PK' y el número completo, o 'AU69AU/8'\n",
    "km_pk_AU69AU = r'(?:(\\b(?:KM|PK)(?:\\.\\s\\d+|\\s\\d+(?:,\\d+)?)?|AU69AU/8)\\b)'\n",
    "\n",
    "# Aplicar la expresión regular a la columna 'LUGAR_DEL_HECHO'\n",
    "hechos['KM_PK_EXTRAIDO'] = hechos['LUGAR_DEL_HECHO'].str.extract(km_pk_AU69AU)\n",
    "\n",
    "# Filtrar las filas donde 'KM_PK_EXTRAIDO' no es None\n",
    "filas_con_km_pk = hechos[hechos['KM_PK_EXTRAIDO'].notna()]\n",
    "\n",
    "# Imprimir el resultado\n",
    "print(filas_con_km_pk[['LUGAR_DEL_HECHO', 'KM_PK_EXTRAIDO']])"
   ]
  },
  {
   "cell_type": "code",
   "execution_count": 21,
   "metadata": {},
   "outputs": [
    {
     "name": "stdout",
     "output_type": "stream",
     "text": [
      "[38, 106, 119, 180, 181, 313, 546, 621]\n"
     ]
    }
   ],
   "source": [
    "# Crea una lista con los indices de de lod registros con Valores Nulos en columnas que brindan ubicacion\n",
    "indices = hechos_sin_direccion.index.tolist()\n",
    "print(indices)"
   ]
  },
  {
   "cell_type": "code",
   "execution_count": 22,
   "metadata": {},
   "outputs": [
    {
     "name": "stdout",
     "output_type": "stream",
     "text": [
      "                      LUGAR_DEL_HECHO KM_PK_EXTRAIDO\n",
      "38         AUTOPISTA LUGONES PK 10000       PK 10000\n",
      "106  AU BUENOS AIRES - LA PLATA KM. 4          KM. 4\n",
      "313          AUTOPISTA LUGONES KM 4.7           KM 4\n",
      "546      LUGONES, LEOPOLDO AV. KM 6,1         KM 6,1\n",
      "621  AU BUENOS AIRES LA PLATA  KM 4,5         KM 4,5\n"
     ]
    }
   ],
   "source": [
    "# Filtrar las filas con los índices específicos\n",
    "filas_filtradas = filas_con_km_pk.loc[filas_con_km_pk.index.isin(indices)]\n",
    "\n",
    "# Imprimir el resultado\n",
    "print(filas_filtradas[['LUGAR_DEL_HECHO', 'KM_PK_EXTRAIDO']])\n"
   ]
  },
  {
   "cell_type": "code",
   "execution_count": 23,
   "metadata": {},
   "outputs": [
    {
     "data": {
      "text/plain": [
       "38     PK 10000\n",
       "106       KM. 4\n",
       "313        KM 4\n",
       "546      KM 6,1\n",
       "621      KM 4,5\n",
       "Name: KM_PK_EXTRAIDO, dtype: object"
      ]
     },
     "execution_count": 23,
     "metadata": {},
     "output_type": "execute_result"
    }
   ],
   "source": [
    "# filtra los Datos de la columna 'KM_PK_EXTRAIDO'\n",
    "filas_filtradas_2 = filas_filtradas['KM_PK_EXTRAIDO']\n",
    "filas_filtradas_2"
   ]
  },
  {
   "cell_type": "code",
   "execution_count": 24,
   "metadata": {},
   "outputs": [
    {
     "name": "stdout",
     "output_type": "stream",
     "text": [
      "    Dirección Normalizada\n",
      "38                    NaN\n",
      "106                   NaN\n",
      "119                   NaN\n",
      "180                   NaN\n",
      "181                   NaN\n",
      "313                   NaN\n",
      "546                   NaN\n",
      "621                   NaN\n"
     ]
    }
   ],
   "source": [
    "# Actualizar 'Dirección Normalizada' con los datos de 'filas_filtradas_2'\n",
    "hechos.loc[filas_filtradas_2.index, 'Dirección Normalizada'] += filas_filtradas_2\n",
    "\n",
    "# Imprimir el DataFrame actualizado para filas específicas\n",
    "print(hechos.loc[indices, ['Dirección Normalizada']])\n"
   ]
  },
  {
   "cell_type": "code",
   "execution_count": 25,
   "metadata": {},
   "outputs": [
    {
     "name": "stdout",
     "output_type": "stream",
     "text": [
      "Registros sin dirección normalizada: 8\n",
      "\n",
      "Índices: [38, 106, 119, 180, 181, 313, 546, 621]\n",
      "\n",
      "Detalles:\n",
      "            ID  N_VICTIMAS      FECHA  AAAA  MM  DD      HORA  HH  \\\n",
      "38   2016-0052           1 2016-04-20  2016   4  20  20:00:00  20   \n",
      "106  2016-0136           1 2016-10-25  2016  10  25  00:00:00   0   \n",
      "119  2016-0151           1 2016-11-18  2016  11  18  20:35:00  20   \n",
      "180  2017-0050           2 2017-04-28  2017   4  28  11:08:08  11   \n",
      "181  2017-0051           1 2017-05-01  2017   5   1  03:47:47   3   \n",
      "313  2018-0039           1 2018-04-21  2018   4  21  22:15:00  22   \n",
      "546  2020-0026           1 2020-05-17  2020   5  17  06:40:00   6   \n",
      "621  2021-0023           1 2021-03-01  2021   3   1  09:20:00   9   \n",
      "\n",
      "                             LUGAR_DEL_HECHO TIPO_DE_CALLE  \\\n",
      "38                AUTOPISTA LUGONES PK 10000     AUTOPISTA   \n",
      "106         AU BUENOS AIRES - LA PLATA KM. 4     AUTOPISTA   \n",
      "119                                       SD         CALLE   \n",
      "180  AU PERITO MORENO Y RAMAL ENLACE AU1/AU6     AUTOPISTA   \n",
      "181                       AU DELLEPIANE 2400     AUTOPISTA   \n",
      "313                 AUTOPISTA LUGONES KM 4.7     AUTOPISTA   \n",
      "546             LUGONES, LEOPOLDO AV. KM 6,1     AUTOPISTA   \n",
      "621         AU BUENOS AIRES LA PLATA  KM 4,5     AUTOPISTA   \n",
      "\n",
      "                                    Calle  Altura Cruce Dirección Normalizada  \\\n",
      "38                  LUGONES, LEOPOLDO AV.     NaN   NaN                   NaN   \n",
      "106     AUTOPISTA BUENOS AIRES - LA PLATA     NaN   NaN                   NaN   \n",
      "119                                   NaN     NaN   NaN                   NaN   \n",
      "180               AUTOPISTA PERITO MORENO     NaN   NaN                   NaN   \n",
      "181  AUTOPISTA DELLEPIANE LUIS TTE. GRAL.     NaN   NaN                   NaN   \n",
      "313                 LUGONES, LEOPOLDO AV.     NaN   NaN                   NaN   \n",
      "546                 LUGONES, LEOPOLDO AV.     NaN   NaN                   NaN   \n",
      "621     AUTOPISTA BUENOS AIRES - LA PLATA     NaN   NaN                   NaN   \n",
      "\n",
      "     COMUNA    XY (CABA) pos x pos y     PARTICIPANTES VICTIMA      ACUSADO  \\\n",
      "38       13  Point (. .)     .     .           MOTO-SD    MOTO           SD   \n",
      "106       4  Point (. .)     .     .       MOTO-CARGAS    MOTO       CARGAS   \n",
      "119       0  Point (. .)     .     .         PEATON-SD  PEATON           SD   \n",
      "180       9  Point (. .)     .     .       MOTO-CARGAS    MOTO       CARGAS   \n",
      "181       7  Point (. .)     .     .         AUTO-AUTO    AUTO         AUTO   \n",
      "313      14  Point (. .)     .     .       PEATON-AUTO  PEATON         AUTO   \n",
      "546      14  Point (. .)     .     .  MOTO-OBJETO FIJO    MOTO  OBJETO FIJO   \n",
      "621       4  Point (. .)     .     .       MOTO-CARGAS    MOTO       CARGAS   \n",
      "\n",
      "    KM_PK_EXTRAIDO  \n",
      "38        PK 10000  \n",
      "106          KM. 4  \n",
      "119            NaN  \n",
      "180            NaN  \n",
      "181            NaN  \n",
      "313           KM 4  \n",
      "546         KM 6,1  \n",
      "621         KM 4,5  \n"
     ]
    }
   ],
   "source": [
    "# Controlar cuantos Regitros quedaron sin datos de ubicacion\n",
    "hechos_sin_direccion_incompletos = hechos[hechos['Dirección Normalizada'].isna()]\n",
    "# Obtener la lista de índices\n",
    "indices_sin_direccion = hechos_sin_direccion_incompletos.index.tolist()\n",
    "print(f'Registros sin dirección normalizada: {len(hechos_sin_direccion_incompletos)}\\n')\n",
    "print(f'Índices: {indices_sin_direccion}\\n')\n",
    "print(f'Detalles:\\n{hechos_sin_direccion_incompletos}')"
   ]
  },
  {
   "cell_type": "markdown",
   "metadata": {},
   "source": [
    "- Se pudo completar casi todos los valores nulos de la columna 'Dirección Normalizada', dejando solo 1 registro, del cual solo se tiene daos, el cual es que la victima es peaton."
   ]
  },
  {
   "cell_type": "markdown",
   "metadata": {},
   "source": [
    "***\n",
    "### Imputar los valores faltantes de las columnas que poseen coordenadas"
   ]
  },
  {
   "cell_type": "markdown",
   "metadata": {},
   "source": [
    "- Verificar el contenido de los regitros faltantes"
   ]
  },
  {
   "cell_type": "code",
   "execution_count": 26,
   "metadata": {},
   "outputs": [
    {
     "name": "stdout",
     "output_type": "stream",
     "text": [
      "XY (CABA)\n",
      "Point (. .)                               14\n",
      "Point (101721.59002217 93844.25656649)     5\n",
      "Point (96563.66494817 108815.73881056)     4\n",
      "Point (99620.34936816 110483.29286598)     4\n",
      "Point (95832.05571093 95505.41641999)      4\n",
      "Name: count, dtype: int64\n"
     ]
    }
   ],
   "source": [
    "# Observar los valores en la columan 'XY (CABA)'\n",
    "xy_sin_datos = hechos['XY (CABA)'].value_counts().head()\n",
    "print(xy_sin_datos)"
   ]
  },
  {
   "cell_type": "code",
   "execution_count": 27,
   "metadata": {},
   "outputs": [
    {
     "name": "stdout",
     "output_type": "stream",
     "text": [
      "pos x\n",
      ".               12\n",
      "-58.44451316     5\n",
      "-58.50073810     4\n",
      "-58.46743471     4\n",
      "-58.50877521     4\n",
      "Name: count, dtype: int64\n"
     ]
    }
   ],
   "source": [
    "# Observar los valores en la columan 'pos x'\n",
    "pos_x_sin_datos = hechos['pos x'].value_counts().head()\n",
    "print(pos_x_sin_datos)"
   ]
  },
  {
   "cell_type": "code",
   "execution_count": 28,
   "metadata": {},
   "outputs": [
    {
     "name": "stdout",
     "output_type": "stream",
     "text": [
      "pos y\n",
      ".               12\n",
      "-34.68475866     5\n",
      "-34.54979510     4\n",
      "-34.53476874     4\n",
      "-34.66977709     4\n",
      "Name: count, dtype: int64\n"
     ]
    }
   ],
   "source": [
    "# Observar los valores en la columan 'pos y'\n",
    "pos_y_sin_datos = hechos['pos y'].value_counts().head()\n",
    "print(pos_y_sin_datos)"
   ]
  },
  {
   "cell_type": "code",
   "execution_count": 29,
   "metadata": {},
   "outputs": [
    {
     "data": {
      "text/plain": [
       "[35, 38, 71, 106, 119, 139, 176, 180, 181, 256, 313, 546, 559, 621]"
      ]
     },
     "execution_count": 29,
     "metadata": {},
     "output_type": "execute_result"
    }
   ],
   "source": [
    "indices_xy_caba_sd_hechos_comuna = hechos[hechos['XY (CABA)'] == 'Point (. .)'].index.to_list()\n",
    "indices_xy_caba_sd_hechos_comuna "
   ]
  },
  {
   "cell_type": "code",
   "execution_count": 30,
   "metadata": {},
   "outputs": [
    {
     "data": {
      "text/plain": [
       "[38, 106, 119, 139, 176, 180, 181, 256, 313, 546, 559, 621]"
      ]
     },
     "execution_count": 30,
     "metadata": {},
     "output_type": "execute_result"
    }
   ],
   "source": [
    "x_indice = hechos[hechos['pos x'] == '.'].index.to_list()\n",
    "x_indice"
   ]
  },
  {
   "cell_type": "code",
   "execution_count": 31,
   "metadata": {},
   "outputs": [
    {
     "data": {
      "text/plain": [
       "[38, 106, 119, 139, 176, 180, 181, 256, 313, 546, 559, 621]"
      ]
     },
     "execution_count": 31,
     "metadata": {},
     "output_type": "execute_result"
    }
   ],
   "source": [
    "y_indice = hechos[hechos['pos y'] == '.'].index.to_list()\n",
    "y_indice"
   ]
  },
  {
   "cell_type": "code",
   "execution_count": 32,
   "metadata": {},
   "outputs": [
    {
     "name": "stdout",
     "output_type": "stream",
     "text": [
      "Las listas de índices son iguales.\n"
     ]
    }
   ],
   "source": [
    "# Compara los indices de registros faltantes\n",
    "compara_indice_iguales_xy = y_indice == x_indice\n",
    "\n",
    "if compara_indice_iguales_xy:\n",
    "    print(\"Las listas de índices son iguales.\")\n",
    "else:\n",
    "    print(\"Las listas de índices no son iguales.\")\n",
    "\n"
   ]
  },
  {
   "cell_type": "code",
   "execution_count": 33,
   "metadata": {},
   "outputs": [
    {
     "name": "stdout",
     "output_type": "stream",
     "text": [
      "Cantidad de registros faltantes en XY (CABA): 14\n",
      "Cantidad de registros faltantes en pos x: 12\n",
      "Cantidad de registros faltantes en pos y: 12\n",
      "Diferencia entre los indices: 2\n"
     ]
    }
   ],
   "source": [
    "# Comparar las listaspara verificar que registros tiene en comun\n",
    "compara_indices = set(indices_xy_caba_sd_hechos_comuna) - set(y_indice)\n",
    "\n",
    "print(f'Cantidad de registros faltantes en XY (CABA): {len(indices_xy_caba_sd_hechos_comuna)}')\n",
    "print(f'Cantidad de registros faltantes en pos x: {len(x_indice)}')\n",
    "print(f'Cantidad de registros faltantes en pos y: {len(y_indice)}')\n",
    "print(f'Diferencia entre los indices: {len(compara_indices)}')"
   ]
  },
  {
   "cell_type": "markdown",
   "metadata": {},
   "source": [
    "***\n",
    "### Buscar las coordenadas faltantes e imputar los datos con libreria 'Nominatim'"
   ]
  },
  {
   "cell_type": "code",
   "execution_count": 34,
   "metadata": {},
   "outputs": [],
   "source": [
    "## cargar la libreria\n",
    "from geopy.geocoders import Nominatim"
   ]
  },
  {
   "cell_type": "code",
   "execution_count": 35,
   "metadata": {},
   "outputs": [],
   "source": [
    "# Funcion para obtener 'Latitud' y 'Longitud'\n",
    "def obtener_coordenadas_nominatim(direccion):\n",
    "    geolocalizador = Nominatim(user_agent=\"mi_aplicacion\")\n",
    "    ubicacion = geolocalizador.geocode(direccion)\n",
    "    \n",
    "    if ubicacion:\n",
    "        latitud, longitud = ubicacion.latitude, ubicacion.longitude\n",
    "        return latitud, longitud\n",
    "    else:\n",
    "        print(f\"No se pudieron obtener las coordenadas para {direccion}\")\n",
    "        return None"
   ]
  },
  {
   "cell_type": "code",
   "execution_count": 36,
   "metadata": {},
   "outputs": [
    {
     "name": "stdout",
     "output_type": "stream",
     "text": [
      "No se pudieron obtener las coordenadas para AUTOPISTA 1 SUR PRESIDENTE ARTURO FRONDIZI, CABA, Argentina\n",
      "No se pudieron obtener las coordenadas para AUTOPISTA 1 SUR PRESIDENTE ARTURO FRONDIZI, CABA, Argentina\n",
      "AUTOPISTA 1 SUR PRESIDENTE ARTURO FRONDIZI, CABA, Argentina: (-34.6678229, -58.4749502)\n",
      "AUTOPISTA DELLEPIANE LUIS TTE. GRAL., CABA, Argentina: (-34.6258984, -58.4012325)\n",
      "AUTOPISTA 25 DE MAYO, CABA, Argentina: (-34.5624705, -58.4166009)\n",
      "LUGONES, LEOPOLDO AV., CABA, Argentina: (-34.6451927, -58.5166563)\n"
     ]
    }
   ],
   "source": [
    "# Lista para almacenar las direcciones unicamente\n",
    "direccion_incompleta = []\n",
    "\n",
    "# Lista para almacenar las direcciones\n",
    "direcciones_guardadas = []\n",
    "\n",
    "# Lista para almacenar las coordenadas\n",
    "coordenadas_guardadas = []\n",
    "\n",
    "for i in indices_xy_caba_sd_hechos_comuna:\n",
    "    direccion_normalizada = hechos.iloc[i][\"Dirección Normalizada\"]\n",
    "    \n",
    "    if isinstance(direccion_normalizada, (float, int)):\n",
    "        continue\n",
    "    \n",
    "    direccion_incompleta.append(direccion_normalizada)    \n",
    "    direccion_completa = str(direccion_normalizada + ', CABA, Argentina')\n",
    "    \n",
    "    # Agregar la dirección completa a la lista\n",
    "    direcciones_guardadas.append(direccion_completa)\n",
    "\n",
    "    # Obtener las coordenadas y agregarlas a la lista\n",
    "    coordenadas = obtener_coordenadas_nominatim(direccion_completa)\n",
    "    if coordenadas:\n",
    "        coordenadas_guardadas.append(coordenadas)\n",
    "\n",
    "# Dieccions que se enconntaron\n",
    "for direccion, coordenadas in zip(direcciones_guardadas, coordenadas_guardadas):\n",
    "    print(f\"{direccion}: {coordenadas}\")"
   ]
  },
  {
   "cell_type": "markdown",
   "metadata": {},
   "source": [
    "### Se imputan las coordenadas que se encontraron a la base de datos "
   ]
  },
  {
   "cell_type": "code",
   "execution_count": 37,
   "metadata": {},
   "outputs": [],
   "source": [
    "for direccion, coordenadas in zip(direccion_incompleta, coordenadas_guardadas):\n",
    "    ind = hechos[hechos['Dirección Normalizada'] == direccion].index\n",
    "    hechos.loc[ind, 'pos y'] = coordenadas[0]\n",
    "    hechos.loc[ind, 'pos x'] = coordenadas[1]\n"
   ]
  },
  {
   "cell_type": "markdown",
   "metadata": {},
   "source": []
  },
  {
   "cell_type": "markdown",
   "metadata": {},
   "source": [
    "***\n",
    "### Visualizacion de la transformacion de los DataFrames"
   ]
  },
  {
   "cell_type": "code",
   "execution_count": 38,
   "metadata": {},
   "outputs": [
    {
     "data": {
      "text/plain": [
       "pos y\n",
       ".               9\n",
       "-34.68475866    5\n",
       "-34.66977709    4\n",
       "-34.53476874    4\n",
       "-34.54979510    4\n",
       "Name: count, dtype: int64"
      ]
     },
     "execution_count": 38,
     "metadata": {},
     "output_type": "execute_result"
    }
   ],
   "source": [
    "hechos['pos y'].value_counts().head()"
   ]
  },
  {
   "cell_type": "code",
   "execution_count": 39,
   "metadata": {},
   "outputs": [
    {
     "name": "stdout",
     "output_type": "stream",
     "text": [
      "<class 'pandas.core.frame.DataFrame'>\n",
      "RangeIndex: 696 entries, 0 to 695\n",
      "Data columns (total 22 columns):\n",
      " #   Column                 Non-Null Count  Dtype         \n",
      "---  ------                 --------------  -----         \n",
      " 0   ID                     696 non-null    object        \n",
      " 1   N_VICTIMAS             696 non-null    int64         \n",
      " 2   FECHA                  696 non-null    datetime64[ns]\n",
      " 3   AAAA                   696 non-null    int64         \n",
      " 4   MM                     696 non-null    int64         \n",
      " 5   DD                     696 non-null    int64         \n",
      " 6   HORA                   696 non-null    object        \n",
      " 7   HH                     696 non-null    object        \n",
      " 8   LUGAR_DEL_HECHO        696 non-null    object        \n",
      " 9   TIPO_DE_CALLE          696 non-null    object        \n",
      " 10  Calle                  695 non-null    object        \n",
      " 11  Altura                 129 non-null    float64       \n",
      " 12  Cruce                  525 non-null    object        \n",
      " 13  Dirección Normalizada  688 non-null    object        \n",
      " 14  COMUNA                 696 non-null    int64         \n",
      " 15  XY (CABA)              696 non-null    object        \n",
      " 16  pos x                  696 non-null    object        \n",
      " 17  pos y                  696 non-null    object        \n",
      " 18  PARTICIPANTES          696 non-null    object        \n",
      " 19  VICTIMA                696 non-null    object        \n",
      " 20  ACUSADO                696 non-null    object        \n",
      " 21  KM_PK_EXTRAIDO         17 non-null     object        \n",
      "dtypes: datetime64[ns](1), float64(1), int64(5), object(15)\n",
      "memory usage: 119.8+ KB\n"
     ]
    }
   ],
   "source": [
    "hechos.info()"
   ]
  },
  {
   "cell_type": "markdown",
   "metadata": {},
   "source": [
    "***\n",
    "***\n",
    "## DataFrame comunas:"
   ]
  },
  {
   "cell_type": "markdown",
   "metadata": {},
   "source": [
    "### Eliminar columnas no necesarias"
   ]
  },
  {
   "cell_type": "code",
   "execution_count": 40,
   "metadata": {},
   "outputs": [],
   "source": [
    "# Se elmina la columna 'ID'\n",
    "comunas_barrios_area = comunas_barrios_area.drop(['ID', 'OBJETO', 'PERIMETRO'], axis=1)"
   ]
  },
  {
   "cell_type": "code",
   "execution_count": 41,
   "metadata": {},
   "outputs": [
    {
     "data": {
      "text/plain": [
       "Index(['COMUNAS', 'BARRIOS', 'AREA'], dtype='object')"
      ]
     },
     "execution_count": 41,
     "metadata": {},
     "output_type": "execute_result"
    }
   ],
   "source": [
    "comunas_barrios_area.columns"
   ]
  },
  {
   "cell_type": "code",
   "execution_count": 42,
   "metadata": {},
   "outputs": [],
   "source": [
    "# Renombra la columna 'COMUNAS'\n",
    "comunas_barrios_area.rename(columns={'COMUNAS': 'Comuna', 'BARRIOS': 'Barrios', 'AREA': 'Area'}, inplace=True)"
   ]
  },
  {
   "cell_type": "code",
   "execution_count": 43,
   "metadata": {},
   "outputs": [
    {
     "data": {
      "text/html": [
       "<div>\n",
       "<style scoped>\n",
       "    .dataframe tbody tr th:only-of-type {\n",
       "        vertical-align: middle;\n",
       "    }\n",
       "\n",
       "    .dataframe tbody tr th {\n",
       "        vertical-align: top;\n",
       "    }\n",
       "\n",
       "    .dataframe thead th {\n",
       "        text-align: right;\n",
       "    }\n",
       "</style>\n",
       "<table border=\"1\" class=\"dataframe\">\n",
       "  <thead>\n",
       "    <tr style=\"text-align: right;\">\n",
       "      <th></th>\n",
       "      <th>Comuna</th>\n",
       "      <th>Barrios</th>\n",
       "      <th>Area</th>\n",
       "    </tr>\n",
       "  </thead>\n",
       "  <tbody>\n",
       "    <tr>\n",
       "      <th>0</th>\n",
       "      <td>2</td>\n",
       "      <td>RECOLETA</td>\n",
       "      <td>6.317265e+06</td>\n",
       "    </tr>\n",
       "    <tr>\n",
       "      <th>1</th>\n",
       "      <td>5</td>\n",
       "      <td>ALMAGRO - BOEDO</td>\n",
       "      <td>6.660603e+06</td>\n",
       "    </tr>\n",
       "    <tr>\n",
       "      <th>2</th>\n",
       "      <td>6</td>\n",
       "      <td>CABALLITO</td>\n",
       "      <td>6.851029e+06</td>\n",
       "    </tr>\n",
       "    <tr>\n",
       "      <th>3</th>\n",
       "      <td>7</td>\n",
       "      <td>FLORES - PARQUE CHACABUCO</td>\n",
       "      <td>1.242290e+07</td>\n",
       "    </tr>\n",
       "    <tr>\n",
       "      <th>4</th>\n",
       "      <td>9</td>\n",
       "      <td>LINIERS - MATADEROS - PARQUE AVELLANEDA</td>\n",
       "      <td>1.650531e+07</td>\n",
       "    </tr>\n",
       "  </tbody>\n",
       "</table>\n",
       "</div>"
      ],
      "text/plain": [
       "   Comuna                                  Barrios          Area\n",
       "0       2                                 RECOLETA  6.317265e+06\n",
       "1       5                          ALMAGRO - BOEDO  6.660603e+06\n",
       "2       6                                CABALLITO  6.851029e+06\n",
       "3       7                FLORES - PARQUE CHACABUCO  1.242290e+07\n",
       "4       9  LINIERS - MATADEROS - PARQUE AVELLANEDA  1.650531e+07"
      ]
     },
     "execution_count": 43,
     "metadata": {},
     "output_type": "execute_result"
    }
   ],
   "source": [
    "# Visualizar como quedo el DataFrame\n",
    "comunas_barrios_area.head()"
   ]
  },
  {
   "cell_type": "markdown",
   "metadata": {},
   "source": [
    "***\n",
    "***\n",
    "### Unir los dos Dataframe para tener los barrios de las comunas"
   ]
  },
  {
   "cell_type": "code",
   "execution_count": 44,
   "metadata": {},
   "outputs": [],
   "source": [
    "# Merge entre DataFrames\n",
    "hechos = hechos.merge(comunas_barrios_area[['Comuna', 'Barrios']], left_on='COMUNA', right_on='Comuna', how='left')"
   ]
  },
  {
   "cell_type": "code",
   "execution_count": 45,
   "metadata": {},
   "outputs": [
    {
     "name": "stdout",
     "output_type": "stream",
     "text": [
      "<class 'pandas.core.frame.DataFrame'>\n",
      "RangeIndex: 696 entries, 0 to 695\n",
      "Data columns (total 24 columns):\n",
      " #   Column                 Non-Null Count  Dtype         \n",
      "---  ------                 --------------  -----         \n",
      " 0   ID                     696 non-null    object        \n",
      " 1   N_VICTIMAS             696 non-null    int64         \n",
      " 2   FECHA                  696 non-null    datetime64[ns]\n",
      " 3   AAAA                   696 non-null    int64         \n",
      " 4   MM                     696 non-null    int64         \n",
      " 5   DD                     696 non-null    int64         \n",
      " 6   HORA                   696 non-null    object        \n",
      " 7   HH                     696 non-null    object        \n",
      " 8   LUGAR_DEL_HECHO        696 non-null    object        \n",
      " 9   TIPO_DE_CALLE          696 non-null    object        \n",
      " 10  Calle                  695 non-null    object        \n",
      " 11  Altura                 129 non-null    float64       \n",
      " 12  Cruce                  525 non-null    object        \n",
      " 13  Dirección Normalizada  688 non-null    object        \n",
      " 14  COMUNA                 696 non-null    int64         \n",
      " 15  XY (CABA)              696 non-null    object        \n",
      " 16  pos x                  696 non-null    object        \n",
      " 17  pos y                  696 non-null    object        \n",
      " 18  PARTICIPANTES          696 non-null    object        \n",
      " 19  VICTIMA                696 non-null    object        \n",
      " 20  ACUSADO                696 non-null    object        \n",
      " 21  KM_PK_EXTRAIDO         17 non-null     object        \n",
      " 22  Comuna                 694 non-null    float64       \n",
      " 23  Barrios                694 non-null    object        \n",
      "dtypes: datetime64[ns](1), float64(2), int64(5), object(16)\n",
      "memory usage: 130.6+ KB\n"
     ]
    }
   ],
   "source": [
    "# Informacion general\n",
    "hechos.info()"
   ]
  },
  {
   "cell_type": "code",
   "execution_count": 46,
   "metadata": {},
   "outputs": [
    {
     "data": {
      "text/html": [
       "<div>\n",
       "<style scoped>\n",
       "    .dataframe tbody tr th:only-of-type {\n",
       "        vertical-align: middle;\n",
       "    }\n",
       "\n",
       "    .dataframe tbody tr th {\n",
       "        vertical-align: top;\n",
       "    }\n",
       "\n",
       "    .dataframe thead th {\n",
       "        text-align: right;\n",
       "    }\n",
       "</style>\n",
       "<table border=\"1\" class=\"dataframe\">\n",
       "  <thead>\n",
       "    <tr style=\"text-align: right;\">\n",
       "      <th></th>\n",
       "      <th>ID</th>\n",
       "      <th>N_VICTIMAS</th>\n",
       "      <th>FECHA</th>\n",
       "      <th>AAAA</th>\n",
       "      <th>MM</th>\n",
       "      <th>DD</th>\n",
       "      <th>HORA</th>\n",
       "      <th>HH</th>\n",
       "      <th>LUGAR_DEL_HECHO</th>\n",
       "      <th>TIPO_DE_CALLE</th>\n",
       "      <th>Calle</th>\n",
       "      <th>Altura</th>\n",
       "      <th>Cruce</th>\n",
       "      <th>Dirección Normalizada</th>\n",
       "      <th>COMUNA</th>\n",
       "      <th>XY (CABA)</th>\n",
       "      <th>pos x</th>\n",
       "      <th>pos y</th>\n",
       "      <th>PARTICIPANTES</th>\n",
       "      <th>VICTIMA</th>\n",
       "      <th>ACUSADO</th>\n",
       "      <th>KM_PK_EXTRAIDO</th>\n",
       "      <th>Comuna</th>\n",
       "      <th>Barrios</th>\n",
       "    </tr>\n",
       "  </thead>\n",
       "  <tbody>\n",
       "    <tr>\n",
       "      <th>0</th>\n",
       "      <td>2016-0001</td>\n",
       "      <td>1</td>\n",
       "      <td>2016-01-01</td>\n",
       "      <td>2016</td>\n",
       "      <td>1</td>\n",
       "      <td>1</td>\n",
       "      <td>04:00:00</td>\n",
       "      <td>4</td>\n",
       "      <td>AV PIEDRA BUENA Y AV FERNANDEZ DE LA CRUZ</td>\n",
       "      <td>AVENIDA</td>\n",
       "      <td>PIEDRA BUENA AV.</td>\n",
       "      <td>NaN</td>\n",
       "      <td>FERNANDEZ DE LA CRUZ, F., GRAL. AV.</td>\n",
       "      <td>PIEDRA BUENA AV. y FERNANDEZ DE LA CRUZ, F., G...</td>\n",
       "      <td>8</td>\n",
       "      <td>Point (98896.78238426 93532.43437792)</td>\n",
       "      <td>-58.47533969</td>\n",
       "      <td>-34.68757022</td>\n",
       "      <td>MOTO-AUTO</td>\n",
       "      <td>MOTO</td>\n",
       "      <td>AUTO</td>\n",
       "      <td>NaN</td>\n",
       "      <td>8.0</td>\n",
       "      <td>VILLA LUGANO - VILLA RIACHUELO - VILLA SOLDATI</td>\n",
       "    </tr>\n",
       "    <tr>\n",
       "      <th>1</th>\n",
       "      <td>2016-0002</td>\n",
       "      <td>1</td>\n",
       "      <td>2016-01-02</td>\n",
       "      <td>2016</td>\n",
       "      <td>1</td>\n",
       "      <td>2</td>\n",
       "      <td>01:15:00</td>\n",
       "      <td>1</td>\n",
       "      <td>AV GRAL PAZ  Y AV DE LOS CORRALES</td>\n",
       "      <td>GRAL PAZ</td>\n",
       "      <td>PAZ, GRAL. AV.</td>\n",
       "      <td>NaN</td>\n",
       "      <td>DE LOS CORRALES AV.</td>\n",
       "      <td>PAZ, GRAL. AV. y DE LOS CORRALES AV.</td>\n",
       "      <td>9</td>\n",
       "      <td>Point (95832.05571093 95505.41641999)</td>\n",
       "      <td>-58.50877521</td>\n",
       "      <td>-34.66977709</td>\n",
       "      <td>AUTO-PASAJEROS</td>\n",
       "      <td>AUTO</td>\n",
       "      <td>PASAJEROS</td>\n",
       "      <td>NaN</td>\n",
       "      <td>9.0</td>\n",
       "      <td>LINIERS - MATADEROS - PARQUE AVELLANEDA</td>\n",
       "    </tr>\n",
       "    <tr>\n",
       "      <th>2</th>\n",
       "      <td>2016-0003</td>\n",
       "      <td>1</td>\n",
       "      <td>2016-01-03</td>\n",
       "      <td>2016</td>\n",
       "      <td>1</td>\n",
       "      <td>3</td>\n",
       "      <td>07:00:00</td>\n",
       "      <td>7</td>\n",
       "      <td>AV ENTRE RIOS 2034</td>\n",
       "      <td>AVENIDA</td>\n",
       "      <td>ENTRE RIOS AV.</td>\n",
       "      <td>2034.0</td>\n",
       "      <td>NaN</td>\n",
       "      <td>ENTRE RIOS AV. 2034</td>\n",
       "      <td>1</td>\n",
       "      <td>Point (106684.29090040 99706.57687843)</td>\n",
       "      <td>-58.39040293</td>\n",
       "      <td>-34.63189362</td>\n",
       "      <td>MOTO-AUTO</td>\n",
       "      <td>MOTO</td>\n",
       "      <td>AUTO</td>\n",
       "      <td>NaN</td>\n",
       "      <td>1.0</td>\n",
       "      <td>CONSTITUCION - MONTSERRAT - PUERTO MADERO - RE...</td>\n",
       "    </tr>\n",
       "    <tr>\n",
       "      <th>3</th>\n",
       "      <td>2016-0004</td>\n",
       "      <td>1</td>\n",
       "      <td>2016-01-10</td>\n",
       "      <td>2016</td>\n",
       "      <td>1</td>\n",
       "      <td>10</td>\n",
       "      <td>00:00:00</td>\n",
       "      <td>0</td>\n",
       "      <td>AV LARRAZABAL Y GRAL VILLEGAS CONRADO</td>\n",
       "      <td>AVENIDA</td>\n",
       "      <td>LARRAZABAL AV.</td>\n",
       "      <td>NaN</td>\n",
       "      <td>VILLEGAS, CONRADO, GRAL.</td>\n",
       "      <td>LARRAZABAL AV. y VILLEGAS, CONRADO, GRAL.</td>\n",
       "      <td>8</td>\n",
       "      <td>Point (99840.65224780 94269.16534422)</td>\n",
       "      <td>-58.46503904</td>\n",
       "      <td>-34.68092974</td>\n",
       "      <td>MOTO-SD</td>\n",
       "      <td>MOTO</td>\n",
       "      <td>SD</td>\n",
       "      <td>NaN</td>\n",
       "      <td>8.0</td>\n",
       "      <td>VILLA LUGANO - VILLA RIACHUELO - VILLA SOLDATI</td>\n",
       "    </tr>\n",
       "    <tr>\n",
       "      <th>4</th>\n",
       "      <td>2016-0005</td>\n",
       "      <td>1</td>\n",
       "      <td>2016-01-21</td>\n",
       "      <td>2016</td>\n",
       "      <td>1</td>\n",
       "      <td>21</td>\n",
       "      <td>05:20:00</td>\n",
       "      <td>5</td>\n",
       "      <td>AV SAN JUAN Y PRESIDENTE LUIS SAENZ PEÑA</td>\n",
       "      <td>AVENIDA</td>\n",
       "      <td>SAN JUAN AV.</td>\n",
       "      <td>NaN</td>\n",
       "      <td>SAENZ PE?A, LUIS, PRES.</td>\n",
       "      <td>SAN JUAN AV. y SAENZ PEÃ‘A, LUIS, PRES.</td>\n",
       "      <td>1</td>\n",
       "      <td>Point (106980.32827929 100752.16915795)</td>\n",
       "      <td>-58.38718297</td>\n",
       "      <td>-34.62246630</td>\n",
       "      <td>MOTO-PASAJEROS</td>\n",
       "      <td>MOTO</td>\n",
       "      <td>PASAJEROS</td>\n",
       "      <td>NaN</td>\n",
       "      <td>1.0</td>\n",
       "      <td>CONSTITUCION - MONTSERRAT - PUERTO MADERO - RE...</td>\n",
       "    </tr>\n",
       "  </tbody>\n",
       "</table>\n",
       "</div>"
      ],
      "text/plain": [
       "          ID  N_VICTIMAS      FECHA  AAAA  MM  DD      HORA HH  \\\n",
       "0  2016-0001           1 2016-01-01  2016   1   1  04:00:00  4   \n",
       "1  2016-0002           1 2016-01-02  2016   1   2  01:15:00  1   \n",
       "2  2016-0003           1 2016-01-03  2016   1   3  07:00:00  7   \n",
       "3  2016-0004           1 2016-01-10  2016   1  10  00:00:00  0   \n",
       "4  2016-0005           1 2016-01-21  2016   1  21  05:20:00  5   \n",
       "\n",
       "                             LUGAR_DEL_HECHO TIPO_DE_CALLE             Calle  \\\n",
       "0  AV PIEDRA BUENA Y AV FERNANDEZ DE LA CRUZ       AVENIDA  PIEDRA BUENA AV.   \n",
       "1          AV GRAL PAZ  Y AV DE LOS CORRALES      GRAL PAZ    PAZ, GRAL. AV.   \n",
       "2                         AV ENTRE RIOS 2034       AVENIDA    ENTRE RIOS AV.   \n",
       "3      AV LARRAZABAL Y GRAL VILLEGAS CONRADO       AVENIDA    LARRAZABAL AV.   \n",
       "4  AV SAN JUAN Y PRESIDENTE LUIS SAENZ PEÑA        AVENIDA      SAN JUAN AV.   \n",
       "\n",
       "   Altura                                Cruce  \\\n",
       "0     NaN  FERNANDEZ DE LA CRUZ, F., GRAL. AV.   \n",
       "1     NaN                  DE LOS CORRALES AV.   \n",
       "2  2034.0                                  NaN   \n",
       "3     NaN             VILLEGAS, CONRADO, GRAL.   \n",
       "4     NaN              SAENZ PE?A, LUIS, PRES.   \n",
       "\n",
       "                               Dirección Normalizada  COMUNA  \\\n",
       "0  PIEDRA BUENA AV. y FERNANDEZ DE LA CRUZ, F., G...       8   \n",
       "1               PAZ, GRAL. AV. y DE LOS CORRALES AV.       9   \n",
       "2                                ENTRE RIOS AV. 2034       1   \n",
       "3          LARRAZABAL AV. y VILLEGAS, CONRADO, GRAL.       8   \n",
       "4            SAN JUAN AV. y SAENZ PEÃ‘A, LUIS, PRES.       1   \n",
       "\n",
       "                                 XY (CABA)         pos x         pos y  \\\n",
       "0    Point (98896.78238426 93532.43437792)  -58.47533969  -34.68757022   \n",
       "1    Point (95832.05571093 95505.41641999)  -58.50877521  -34.66977709   \n",
       "2   Point (106684.29090040 99706.57687843)  -58.39040293  -34.63189362   \n",
       "3    Point (99840.65224780 94269.16534422)  -58.46503904  -34.68092974   \n",
       "4  Point (106980.32827929 100752.16915795)  -58.38718297  -34.62246630   \n",
       "\n",
       "    PARTICIPANTES VICTIMA    ACUSADO KM_PK_EXTRAIDO  Comuna  \\\n",
       "0       MOTO-AUTO    MOTO       AUTO            NaN     8.0   \n",
       "1  AUTO-PASAJEROS    AUTO  PASAJEROS            NaN     9.0   \n",
       "2       MOTO-AUTO    MOTO       AUTO            NaN     1.0   \n",
       "3         MOTO-SD    MOTO         SD            NaN     8.0   \n",
       "4  MOTO-PASAJEROS    MOTO  PASAJEROS            NaN     1.0   \n",
       "\n",
       "                                             Barrios  \n",
       "0     VILLA LUGANO - VILLA RIACHUELO - VILLA SOLDATI  \n",
       "1            LINIERS - MATADEROS - PARQUE AVELLANEDA  \n",
       "2  CONSTITUCION - MONTSERRAT - PUERTO MADERO - RE...  \n",
       "3     VILLA LUGANO - VILLA RIACHUELO - VILLA SOLDATI  \n",
       "4  CONSTITUCION - MONTSERRAT - PUERTO MADERO - RE...  "
      ]
     },
     "execution_count": 46,
     "metadata": {},
     "output_type": "execute_result"
    }
   ],
   "source": [
    "# Visualizar los 5 primero registros del DataFrame\n",
    "hechos.head()"
   ]
  },
  {
   "cell_type": "code",
   "execution_count": 47,
   "metadata": {},
   "outputs": [],
   "source": [
    "# Ordenar las columnas\n",
    "columnas_ordenadas = ['ID', 'N_VICTIMAS', 'FECHA', 'AAAA', 'MM', 'DD', 'HORA', 'HH',\n",
    "       'LUGAR_DEL_HECHO', 'TIPO_DE_CALLE', 'Calle', 'Altura', 'Cruce',\n",
    "       'Dirección Normalizada', 'COMUNA', 'Barrios', 'XY (CABA)', 'pos x', 'pos y',\n",
    "       'PARTICIPANTES', 'VICTIMA', 'ACUSADO']\n",
    "hechos = hechos[columnas_ordenadas]\n",
    "\n"
   ]
  },
  {
   "cell_type": "markdown",
   "metadata": {},
   "source": [
    "***\n",
    "***\n",
    "##  DataFrame comunas_habitantes:"
   ]
  },
  {
   "cell_type": "markdown",
   "metadata": {},
   "source": [
    "### Visualizacion general"
   ]
  },
  {
   "cell_type": "code",
   "execution_count": 48,
   "metadata": {},
   "outputs": [
    {
     "name": "stdout",
     "output_type": "stream",
     "text": [
      "<class 'pandas.core.frame.DataFrame'>\n",
      "RangeIndex: 15 entries, 0 to 14\n",
      "Data columns (total 2 columns):\n",
      " #   Column     Non-Null Count  Dtype\n",
      "---  ------     --------------  -----\n",
      " 0   COMUNA     15 non-null     int64\n",
      " 1   POBLACION  15 non-null     int64\n",
      "dtypes: int64(2)\n",
      "memory usage: 368.0 bytes\n"
     ]
    }
   ],
   "source": [
    "# Visualizacion general\n",
    "comunas_habitantes.info()"
   ]
  },
  {
   "cell_type": "code",
   "execution_count": 49,
   "metadata": {},
   "outputs": [
    {
     "data": {
      "text/html": [
       "<div>\n",
       "<style scoped>\n",
       "    .dataframe tbody tr th:only-of-type {\n",
       "        vertical-align: middle;\n",
       "    }\n",
       "\n",
       "    .dataframe tbody tr th {\n",
       "        vertical-align: top;\n",
       "    }\n",
       "\n",
       "    .dataframe thead th {\n",
       "        text-align: right;\n",
       "    }\n",
       "</style>\n",
       "<table border=\"1\" class=\"dataframe\">\n",
       "  <thead>\n",
       "    <tr style=\"text-align: right;\">\n",
       "      <th></th>\n",
       "      <th>COMUNA</th>\n",
       "      <th>POBLACION</th>\n",
       "    </tr>\n",
       "  </thead>\n",
       "  <tbody>\n",
       "    <tr>\n",
       "      <th>0</th>\n",
       "      <td>1</td>\n",
       "      <td>253271</td>\n",
       "    </tr>\n",
       "    <tr>\n",
       "      <th>1</th>\n",
       "      <td>2</td>\n",
       "      <td>149720</td>\n",
       "    </tr>\n",
       "    <tr>\n",
       "      <th>2</th>\n",
       "      <td>3</td>\n",
       "      <td>192763</td>\n",
       "    </tr>\n",
       "    <tr>\n",
       "      <th>3</th>\n",
       "      <td>4</td>\n",
       "      <td>238809</td>\n",
       "    </tr>\n",
       "    <tr>\n",
       "      <th>4</th>\n",
       "      <td>5</td>\n",
       "      <td>186956</td>\n",
       "    </tr>\n",
       "  </tbody>\n",
       "</table>\n",
       "</div>"
      ],
      "text/plain": [
       "   COMUNA  POBLACION\n",
       "0       1     253271\n",
       "1       2     149720\n",
       "2       3     192763\n",
       "3       4     238809\n",
       "4       5     186956"
      ]
     },
     "execution_count": 49,
     "metadata": {},
     "output_type": "execute_result"
    }
   ],
   "source": [
    "# observar los 5 primeros registros\n",
    "comunas_habitantes.head()"
   ]
  },
  {
   "cell_type": "markdown",
   "metadata": {},
   "source": [
    "### Realiza un Merge entre los DataFrames para contar con toda la informacion"
   ]
  },
  {
   "cell_type": "code",
   "execution_count": 50,
   "metadata": {},
   "outputs": [],
   "source": [
    "# Genera la Union de los DataFrame \n",
    "hechos = hechos.merge(comunas_habitantes[['COMUNA', 'POBLACION']], on='COMUNA', how='left')"
   ]
  },
  {
   "cell_type": "code",
   "execution_count": null,
   "metadata": {},
   "outputs": [],
   "source": []
  },
  {
   "cell_type": "code",
   "execution_count": 51,
   "metadata": {},
   "outputs": [],
   "source": [
    "# Ordena las columnas \n",
    "columnas_ordenadas = ['ID', 'N_VICTIMAS', 'FECHA', 'AAAA', 'MM', 'DD', 'HORA', 'HH',\n",
    "       'LUGAR_DEL_HECHO', 'TIPO_DE_CALLE', 'Calle', 'Altura', 'Cruce',\n",
    "       'Dirección Normalizada', 'COMUNA', 'Barrios', 'POBLACION', 'XY (CABA)', 'pos x',\n",
    "       'pos y', 'PARTICIPANTES', 'VICTIMA', 'ACUSADO']\n",
    "hechos = hechos[columnas_ordenadas]             "
   ]
  },
  {
   "cell_type": "markdown",
   "metadata": {},
   "source": [
    "***\n",
    "### Visualizacion del DataFrame Luegi del Procesamiento"
   ]
  },
  {
   "cell_type": "code",
   "execution_count": 52,
   "metadata": {},
   "outputs": [
    {
     "name": "stdout",
     "output_type": "stream",
     "text": [
      "<class 'pandas.core.frame.DataFrame'>\n",
      "RangeIndex: 696 entries, 0 to 695\n",
      "Data columns (total 23 columns):\n",
      " #   Column                 Non-Null Count  Dtype         \n",
      "---  ------                 --------------  -----         \n",
      " 0   ID                     696 non-null    object        \n",
      " 1   N_VICTIMAS             696 non-null    int64         \n",
      " 2   FECHA                  696 non-null    datetime64[ns]\n",
      " 3   AAAA                   696 non-null    int64         \n",
      " 4   MM                     696 non-null    int64         \n",
      " 5   DD                     696 non-null    int64         \n",
      " 6   HORA                   696 non-null    object        \n",
      " 7   HH                     696 non-null    object        \n",
      " 8   LUGAR_DEL_HECHO        696 non-null    object        \n",
      " 9   TIPO_DE_CALLE          696 non-null    object        \n",
      " 10  Calle                  695 non-null    object        \n",
      " 11  Altura                 129 non-null    float64       \n",
      " 12  Cruce                  525 non-null    object        \n",
      " 13  Dirección Normalizada  688 non-null    object        \n",
      " 14  COMUNA                 696 non-null    int64         \n",
      " 15  Barrios                694 non-null    object        \n",
      " 16  POBLACION              694 non-null    float64       \n",
      " 17  XY (CABA)              696 non-null    object        \n",
      " 18  pos x                  696 non-null    object        \n",
      " 19  pos y                  696 non-null    object        \n",
      " 20  PARTICIPANTES          696 non-null    object        \n",
      " 21  VICTIMA                696 non-null    object        \n",
      " 22  ACUSADO                696 non-null    object        \n",
      "dtypes: datetime64[ns](1), float64(2), int64(5), object(15)\n",
      "memory usage: 125.2+ KB\n"
     ]
    }
   ],
   "source": [
    "hechos.info()"
   ]
  },
  {
   "cell_type": "code",
   "execution_count": 53,
   "metadata": {},
   "outputs": [
    {
     "data": {
      "text/html": [
       "<div>\n",
       "<style scoped>\n",
       "    .dataframe tbody tr th:only-of-type {\n",
       "        vertical-align: middle;\n",
       "    }\n",
       "\n",
       "    .dataframe tbody tr th {\n",
       "        vertical-align: top;\n",
       "    }\n",
       "\n",
       "    .dataframe thead th {\n",
       "        text-align: right;\n",
       "    }\n",
       "</style>\n",
       "<table border=\"1\" class=\"dataframe\">\n",
       "  <thead>\n",
       "    <tr style=\"text-align: right;\">\n",
       "      <th></th>\n",
       "      <th>ID</th>\n",
       "      <th>N_VICTIMAS</th>\n",
       "      <th>FECHA</th>\n",
       "      <th>AAAA</th>\n",
       "      <th>MM</th>\n",
       "      <th>DD</th>\n",
       "      <th>HORA</th>\n",
       "      <th>HH</th>\n",
       "      <th>LUGAR_DEL_HECHO</th>\n",
       "      <th>TIPO_DE_CALLE</th>\n",
       "      <th>Calle</th>\n",
       "      <th>Altura</th>\n",
       "      <th>Cruce</th>\n",
       "      <th>Dirección Normalizada</th>\n",
       "      <th>COMUNA</th>\n",
       "      <th>Barrios</th>\n",
       "      <th>POBLACION</th>\n",
       "      <th>XY (CABA)</th>\n",
       "      <th>pos x</th>\n",
       "      <th>pos y</th>\n",
       "      <th>PARTICIPANTES</th>\n",
       "      <th>VICTIMA</th>\n",
       "      <th>ACUSADO</th>\n",
       "    </tr>\n",
       "  </thead>\n",
       "  <tbody>\n",
       "    <tr>\n",
       "      <th>0</th>\n",
       "      <td>2016-0001</td>\n",
       "      <td>1</td>\n",
       "      <td>2016-01-01</td>\n",
       "      <td>2016</td>\n",
       "      <td>1</td>\n",
       "      <td>1</td>\n",
       "      <td>04:00:00</td>\n",
       "      <td>4</td>\n",
       "      <td>AV PIEDRA BUENA Y AV FERNANDEZ DE LA CRUZ</td>\n",
       "      <td>AVENIDA</td>\n",
       "      <td>PIEDRA BUENA AV.</td>\n",
       "      <td>NaN</td>\n",
       "      <td>FERNANDEZ DE LA CRUZ, F., GRAL. AV.</td>\n",
       "      <td>PIEDRA BUENA AV. y FERNANDEZ DE LA CRUZ, F., G...</td>\n",
       "      <td>8</td>\n",
       "      <td>VILLA LUGANO - VILLA RIACHUELO - VILLA SOLDATI</td>\n",
       "      <td>226649.0</td>\n",
       "      <td>Point (98896.78238426 93532.43437792)</td>\n",
       "      <td>-58.47533969</td>\n",
       "      <td>-34.68757022</td>\n",
       "      <td>MOTO-AUTO</td>\n",
       "      <td>MOTO</td>\n",
       "      <td>AUTO</td>\n",
       "    </tr>\n",
       "    <tr>\n",
       "      <th>1</th>\n",
       "      <td>2016-0002</td>\n",
       "      <td>1</td>\n",
       "      <td>2016-01-02</td>\n",
       "      <td>2016</td>\n",
       "      <td>1</td>\n",
       "      <td>2</td>\n",
       "      <td>01:15:00</td>\n",
       "      <td>1</td>\n",
       "      <td>AV GRAL PAZ  Y AV DE LOS CORRALES</td>\n",
       "      <td>GRAL PAZ</td>\n",
       "      <td>PAZ, GRAL. AV.</td>\n",
       "      <td>NaN</td>\n",
       "      <td>DE LOS CORRALES AV.</td>\n",
       "      <td>PAZ, GRAL. AV. y DE LOS CORRALES AV.</td>\n",
       "      <td>9</td>\n",
       "      <td>LINIERS - MATADEROS - PARQUE AVELLANEDA</td>\n",
       "      <td>170605.0</td>\n",
       "      <td>Point (95832.05571093 95505.41641999)</td>\n",
       "      <td>-58.50877521</td>\n",
       "      <td>-34.66977709</td>\n",
       "      <td>AUTO-PASAJEROS</td>\n",
       "      <td>AUTO</td>\n",
       "      <td>PASAJEROS</td>\n",
       "    </tr>\n",
       "    <tr>\n",
       "      <th>2</th>\n",
       "      <td>2016-0003</td>\n",
       "      <td>1</td>\n",
       "      <td>2016-01-03</td>\n",
       "      <td>2016</td>\n",
       "      <td>1</td>\n",
       "      <td>3</td>\n",
       "      <td>07:00:00</td>\n",
       "      <td>7</td>\n",
       "      <td>AV ENTRE RIOS 2034</td>\n",
       "      <td>AVENIDA</td>\n",
       "      <td>ENTRE RIOS AV.</td>\n",
       "      <td>2034.0</td>\n",
       "      <td>NaN</td>\n",
       "      <td>ENTRE RIOS AV. 2034</td>\n",
       "      <td>1</td>\n",
       "      <td>CONSTITUCION - MONTSERRAT - PUERTO MADERO - RE...</td>\n",
       "      <td>253271.0</td>\n",
       "      <td>Point (106684.29090040 99706.57687843)</td>\n",
       "      <td>-58.39040293</td>\n",
       "      <td>-34.63189362</td>\n",
       "      <td>MOTO-AUTO</td>\n",
       "      <td>MOTO</td>\n",
       "      <td>AUTO</td>\n",
       "    </tr>\n",
       "    <tr>\n",
       "      <th>3</th>\n",
       "      <td>2016-0004</td>\n",
       "      <td>1</td>\n",
       "      <td>2016-01-10</td>\n",
       "      <td>2016</td>\n",
       "      <td>1</td>\n",
       "      <td>10</td>\n",
       "      <td>00:00:00</td>\n",
       "      <td>0</td>\n",
       "      <td>AV LARRAZABAL Y GRAL VILLEGAS CONRADO</td>\n",
       "      <td>AVENIDA</td>\n",
       "      <td>LARRAZABAL AV.</td>\n",
       "      <td>NaN</td>\n",
       "      <td>VILLEGAS, CONRADO, GRAL.</td>\n",
       "      <td>LARRAZABAL AV. y VILLEGAS, CONRADO, GRAL.</td>\n",
       "      <td>8</td>\n",
       "      <td>VILLA LUGANO - VILLA RIACHUELO - VILLA SOLDATI</td>\n",
       "      <td>226649.0</td>\n",
       "      <td>Point (99840.65224780 94269.16534422)</td>\n",
       "      <td>-58.46503904</td>\n",
       "      <td>-34.68092974</td>\n",
       "      <td>MOTO-SD</td>\n",
       "      <td>MOTO</td>\n",
       "      <td>SD</td>\n",
       "    </tr>\n",
       "    <tr>\n",
       "      <th>4</th>\n",
       "      <td>2016-0005</td>\n",
       "      <td>1</td>\n",
       "      <td>2016-01-21</td>\n",
       "      <td>2016</td>\n",
       "      <td>1</td>\n",
       "      <td>21</td>\n",
       "      <td>05:20:00</td>\n",
       "      <td>5</td>\n",
       "      <td>AV SAN JUAN Y PRESIDENTE LUIS SAENZ PEÑA</td>\n",
       "      <td>AVENIDA</td>\n",
       "      <td>SAN JUAN AV.</td>\n",
       "      <td>NaN</td>\n",
       "      <td>SAENZ PE?A, LUIS, PRES.</td>\n",
       "      <td>SAN JUAN AV. y SAENZ PEÃ‘A, LUIS, PRES.</td>\n",
       "      <td>1</td>\n",
       "      <td>CONSTITUCION - MONTSERRAT - PUERTO MADERO - RE...</td>\n",
       "      <td>253271.0</td>\n",
       "      <td>Point (106980.32827929 100752.16915795)</td>\n",
       "      <td>-58.38718297</td>\n",
       "      <td>-34.62246630</td>\n",
       "      <td>MOTO-PASAJEROS</td>\n",
       "      <td>MOTO</td>\n",
       "      <td>PASAJEROS</td>\n",
       "    </tr>\n",
       "  </tbody>\n",
       "</table>\n",
       "</div>"
      ],
      "text/plain": [
       "          ID  N_VICTIMAS      FECHA  AAAA  MM  DD      HORA HH  \\\n",
       "0  2016-0001           1 2016-01-01  2016   1   1  04:00:00  4   \n",
       "1  2016-0002           1 2016-01-02  2016   1   2  01:15:00  1   \n",
       "2  2016-0003           1 2016-01-03  2016   1   3  07:00:00  7   \n",
       "3  2016-0004           1 2016-01-10  2016   1  10  00:00:00  0   \n",
       "4  2016-0005           1 2016-01-21  2016   1  21  05:20:00  5   \n",
       "\n",
       "                             LUGAR_DEL_HECHO TIPO_DE_CALLE             Calle  \\\n",
       "0  AV PIEDRA BUENA Y AV FERNANDEZ DE LA CRUZ       AVENIDA  PIEDRA BUENA AV.   \n",
       "1          AV GRAL PAZ  Y AV DE LOS CORRALES      GRAL PAZ    PAZ, GRAL. AV.   \n",
       "2                         AV ENTRE RIOS 2034       AVENIDA    ENTRE RIOS AV.   \n",
       "3      AV LARRAZABAL Y GRAL VILLEGAS CONRADO       AVENIDA    LARRAZABAL AV.   \n",
       "4  AV SAN JUAN Y PRESIDENTE LUIS SAENZ PEÑA        AVENIDA      SAN JUAN AV.   \n",
       "\n",
       "   Altura                                Cruce  \\\n",
       "0     NaN  FERNANDEZ DE LA CRUZ, F., GRAL. AV.   \n",
       "1     NaN                  DE LOS CORRALES AV.   \n",
       "2  2034.0                                  NaN   \n",
       "3     NaN             VILLEGAS, CONRADO, GRAL.   \n",
       "4     NaN              SAENZ PE?A, LUIS, PRES.   \n",
       "\n",
       "                               Dirección Normalizada  COMUNA  \\\n",
       "0  PIEDRA BUENA AV. y FERNANDEZ DE LA CRUZ, F., G...       8   \n",
       "1               PAZ, GRAL. AV. y DE LOS CORRALES AV.       9   \n",
       "2                                ENTRE RIOS AV. 2034       1   \n",
       "3          LARRAZABAL AV. y VILLEGAS, CONRADO, GRAL.       8   \n",
       "4            SAN JUAN AV. y SAENZ PEÃ‘A, LUIS, PRES.       1   \n",
       "\n",
       "                                             Barrios  POBLACION  \\\n",
       "0     VILLA LUGANO - VILLA RIACHUELO - VILLA SOLDATI   226649.0   \n",
       "1            LINIERS - MATADEROS - PARQUE AVELLANEDA   170605.0   \n",
       "2  CONSTITUCION - MONTSERRAT - PUERTO MADERO - RE...   253271.0   \n",
       "3     VILLA LUGANO - VILLA RIACHUELO - VILLA SOLDATI   226649.0   \n",
       "4  CONSTITUCION - MONTSERRAT - PUERTO MADERO - RE...   253271.0   \n",
       "\n",
       "                                 XY (CABA)         pos x         pos y  \\\n",
       "0    Point (98896.78238426 93532.43437792)  -58.47533969  -34.68757022   \n",
       "1    Point (95832.05571093 95505.41641999)  -58.50877521  -34.66977709   \n",
       "2   Point (106684.29090040 99706.57687843)  -58.39040293  -34.63189362   \n",
       "3    Point (99840.65224780 94269.16534422)  -58.46503904  -34.68092974   \n",
       "4  Point (106980.32827929 100752.16915795)  -58.38718297  -34.62246630   \n",
       "\n",
       "    PARTICIPANTES VICTIMA    ACUSADO  \n",
       "0       MOTO-AUTO    MOTO       AUTO  \n",
       "1  AUTO-PASAJEROS    AUTO  PASAJEROS  \n",
       "2       MOTO-AUTO    MOTO       AUTO  \n",
       "3         MOTO-SD    MOTO         SD  \n",
       "4  MOTO-PASAJEROS    MOTO  PASAJEROS  "
      ]
     },
     "execution_count": 53,
     "metadata": {},
     "output_type": "execute_result"
    }
   ],
   "source": [
    "hechos.head()"
   ]
  },
  {
   "cell_type": "markdown",
   "metadata": {},
   "source": [
    "***\n",
    "### Renombrar columnas"
   ]
  },
  {
   "cell_type": "code",
   "execution_count": 54,
   "metadata": {},
   "outputs": [],
   "source": [
    "# Renombrar las columnas del DataFrame\n",
    "hechos = hechos.rename(columns={'ID': 'Id', 'N_VICTIMAS': 'N°_Victimas', 'FECHA': 'Fecha_Hechos', 'AAAA': 'Año_Hechos', 'MM': 'Mes_Hechos', 'DD': 'Dia_Hechos', 'HORA': 'Hora_Completa_Hechos', 'HH': 'Hora_Hechos',\n",
    "       'LUGAR_DEL_HECHO': 'Lugar_Del_Hecho', 'TIPO_DE_CALLE': 'Tipo_De_Calle', 'COMUNA': 'Comuna', 'POBLACION': 'Poblacion', 'XY (CABA)': 'Geo_Localizacion',\n",
    "       'pos x': 'Longitud', 'pos y': 'Latitud', 'PARTICIPANTES': 'Participantes', 'VICTIMA': 'Victima', 'ACUSADO': 'Acusado'})"
   ]
  },
  {
   "cell_type": "code",
   "execution_count": 55,
   "metadata": {},
   "outputs": [
    {
     "data": {
      "text/html": [
       "<div>\n",
       "<style scoped>\n",
       "    .dataframe tbody tr th:only-of-type {\n",
       "        vertical-align: middle;\n",
       "    }\n",
       "\n",
       "    .dataframe tbody tr th {\n",
       "        vertical-align: top;\n",
       "    }\n",
       "\n",
       "    .dataframe thead th {\n",
       "        text-align: right;\n",
       "    }\n",
       "</style>\n",
       "<table border=\"1\" class=\"dataframe\">\n",
       "  <thead>\n",
       "    <tr style=\"text-align: right;\">\n",
       "      <th></th>\n",
       "      <th>Id</th>\n",
       "      <th>N°_Victimas</th>\n",
       "      <th>Fecha_Hechos</th>\n",
       "      <th>Año_Hechos</th>\n",
       "      <th>Mes_Hechos</th>\n",
       "      <th>Dia_Hechos</th>\n",
       "      <th>Hora_Completa_Hechos</th>\n",
       "      <th>Hora_Hechos</th>\n",
       "      <th>Lugar_Del_Hecho</th>\n",
       "      <th>Tipo_De_Calle</th>\n",
       "      <th>Calle</th>\n",
       "      <th>Altura</th>\n",
       "      <th>Cruce</th>\n",
       "      <th>Dirección Normalizada</th>\n",
       "      <th>Comuna</th>\n",
       "      <th>Barrios</th>\n",
       "      <th>Poblacion</th>\n",
       "      <th>Geo_Localizacion</th>\n",
       "      <th>Longitud</th>\n",
       "      <th>Latitud</th>\n",
       "      <th>Participantes</th>\n",
       "      <th>Victima</th>\n",
       "      <th>Acusado</th>\n",
       "    </tr>\n",
       "  </thead>\n",
       "  <tbody>\n",
       "    <tr>\n",
       "      <th>0</th>\n",
       "      <td>2016-0001</td>\n",
       "      <td>1</td>\n",
       "      <td>2016-01-01</td>\n",
       "      <td>2016</td>\n",
       "      <td>1</td>\n",
       "      <td>1</td>\n",
       "      <td>04:00:00</td>\n",
       "      <td>4</td>\n",
       "      <td>AV PIEDRA BUENA Y AV FERNANDEZ DE LA CRUZ</td>\n",
       "      <td>AVENIDA</td>\n",
       "      <td>PIEDRA BUENA AV.</td>\n",
       "      <td>NaN</td>\n",
       "      <td>FERNANDEZ DE LA CRUZ, F., GRAL. AV.</td>\n",
       "      <td>PIEDRA BUENA AV. y FERNANDEZ DE LA CRUZ, F., G...</td>\n",
       "      <td>8</td>\n",
       "      <td>VILLA LUGANO - VILLA RIACHUELO - VILLA SOLDATI</td>\n",
       "      <td>226649.0</td>\n",
       "      <td>Point (98896.78238426 93532.43437792)</td>\n",
       "      <td>-58.47533969</td>\n",
       "      <td>-34.68757022</td>\n",
       "      <td>MOTO-AUTO</td>\n",
       "      <td>MOTO</td>\n",
       "      <td>AUTO</td>\n",
       "    </tr>\n",
       "    <tr>\n",
       "      <th>1</th>\n",
       "      <td>2016-0002</td>\n",
       "      <td>1</td>\n",
       "      <td>2016-01-02</td>\n",
       "      <td>2016</td>\n",
       "      <td>1</td>\n",
       "      <td>2</td>\n",
       "      <td>01:15:00</td>\n",
       "      <td>1</td>\n",
       "      <td>AV GRAL PAZ  Y AV DE LOS CORRALES</td>\n",
       "      <td>GRAL PAZ</td>\n",
       "      <td>PAZ, GRAL. AV.</td>\n",
       "      <td>NaN</td>\n",
       "      <td>DE LOS CORRALES AV.</td>\n",
       "      <td>PAZ, GRAL. AV. y DE LOS CORRALES AV.</td>\n",
       "      <td>9</td>\n",
       "      <td>LINIERS - MATADEROS - PARQUE AVELLANEDA</td>\n",
       "      <td>170605.0</td>\n",
       "      <td>Point (95832.05571093 95505.41641999)</td>\n",
       "      <td>-58.50877521</td>\n",
       "      <td>-34.66977709</td>\n",
       "      <td>AUTO-PASAJEROS</td>\n",
       "      <td>AUTO</td>\n",
       "      <td>PASAJEROS</td>\n",
       "    </tr>\n",
       "    <tr>\n",
       "      <th>2</th>\n",
       "      <td>2016-0003</td>\n",
       "      <td>1</td>\n",
       "      <td>2016-01-03</td>\n",
       "      <td>2016</td>\n",
       "      <td>1</td>\n",
       "      <td>3</td>\n",
       "      <td>07:00:00</td>\n",
       "      <td>7</td>\n",
       "      <td>AV ENTRE RIOS 2034</td>\n",
       "      <td>AVENIDA</td>\n",
       "      <td>ENTRE RIOS AV.</td>\n",
       "      <td>2034.0</td>\n",
       "      <td>NaN</td>\n",
       "      <td>ENTRE RIOS AV. 2034</td>\n",
       "      <td>1</td>\n",
       "      <td>CONSTITUCION - MONTSERRAT - PUERTO MADERO - RE...</td>\n",
       "      <td>253271.0</td>\n",
       "      <td>Point (106684.29090040 99706.57687843)</td>\n",
       "      <td>-58.39040293</td>\n",
       "      <td>-34.63189362</td>\n",
       "      <td>MOTO-AUTO</td>\n",
       "      <td>MOTO</td>\n",
       "      <td>AUTO</td>\n",
       "    </tr>\n",
       "    <tr>\n",
       "      <th>3</th>\n",
       "      <td>2016-0004</td>\n",
       "      <td>1</td>\n",
       "      <td>2016-01-10</td>\n",
       "      <td>2016</td>\n",
       "      <td>1</td>\n",
       "      <td>10</td>\n",
       "      <td>00:00:00</td>\n",
       "      <td>0</td>\n",
       "      <td>AV LARRAZABAL Y GRAL VILLEGAS CONRADO</td>\n",
       "      <td>AVENIDA</td>\n",
       "      <td>LARRAZABAL AV.</td>\n",
       "      <td>NaN</td>\n",
       "      <td>VILLEGAS, CONRADO, GRAL.</td>\n",
       "      <td>LARRAZABAL AV. y VILLEGAS, CONRADO, GRAL.</td>\n",
       "      <td>8</td>\n",
       "      <td>VILLA LUGANO - VILLA RIACHUELO - VILLA SOLDATI</td>\n",
       "      <td>226649.0</td>\n",
       "      <td>Point (99840.65224780 94269.16534422)</td>\n",
       "      <td>-58.46503904</td>\n",
       "      <td>-34.68092974</td>\n",
       "      <td>MOTO-SD</td>\n",
       "      <td>MOTO</td>\n",
       "      <td>SD</td>\n",
       "    </tr>\n",
       "    <tr>\n",
       "      <th>4</th>\n",
       "      <td>2016-0005</td>\n",
       "      <td>1</td>\n",
       "      <td>2016-01-21</td>\n",
       "      <td>2016</td>\n",
       "      <td>1</td>\n",
       "      <td>21</td>\n",
       "      <td>05:20:00</td>\n",
       "      <td>5</td>\n",
       "      <td>AV SAN JUAN Y PRESIDENTE LUIS SAENZ PEÑA</td>\n",
       "      <td>AVENIDA</td>\n",
       "      <td>SAN JUAN AV.</td>\n",
       "      <td>NaN</td>\n",
       "      <td>SAENZ PE?A, LUIS, PRES.</td>\n",
       "      <td>SAN JUAN AV. y SAENZ PEÃ‘A, LUIS, PRES.</td>\n",
       "      <td>1</td>\n",
       "      <td>CONSTITUCION - MONTSERRAT - PUERTO MADERO - RE...</td>\n",
       "      <td>253271.0</td>\n",
       "      <td>Point (106980.32827929 100752.16915795)</td>\n",
       "      <td>-58.38718297</td>\n",
       "      <td>-34.62246630</td>\n",
       "      <td>MOTO-PASAJEROS</td>\n",
       "      <td>MOTO</td>\n",
       "      <td>PASAJEROS</td>\n",
       "    </tr>\n",
       "  </tbody>\n",
       "</table>\n",
       "</div>"
      ],
      "text/plain": [
       "          Id  N°_Victimas Fecha_Hechos  Año_Hechos  Mes_Hechos  Dia_Hechos  \\\n",
       "0  2016-0001            1   2016-01-01        2016           1           1   \n",
       "1  2016-0002            1   2016-01-02        2016           1           2   \n",
       "2  2016-0003            1   2016-01-03        2016           1           3   \n",
       "3  2016-0004            1   2016-01-10        2016           1          10   \n",
       "4  2016-0005            1   2016-01-21        2016           1          21   \n",
       "\n",
       "  Hora_Completa_Hechos Hora_Hechos                            Lugar_Del_Hecho  \\\n",
       "0             04:00:00           4  AV PIEDRA BUENA Y AV FERNANDEZ DE LA CRUZ   \n",
       "1             01:15:00           1          AV GRAL PAZ  Y AV DE LOS CORRALES   \n",
       "2             07:00:00           7                         AV ENTRE RIOS 2034   \n",
       "3             00:00:00           0      AV LARRAZABAL Y GRAL VILLEGAS CONRADO   \n",
       "4             05:20:00           5  AV SAN JUAN Y PRESIDENTE LUIS SAENZ PEÑA    \n",
       "\n",
       "  Tipo_De_Calle             Calle  Altura  \\\n",
       "0       AVENIDA  PIEDRA BUENA AV.     NaN   \n",
       "1      GRAL PAZ    PAZ, GRAL. AV.     NaN   \n",
       "2       AVENIDA    ENTRE RIOS AV.  2034.0   \n",
       "3       AVENIDA    LARRAZABAL AV.     NaN   \n",
       "4       AVENIDA      SAN JUAN AV.     NaN   \n",
       "\n",
       "                                 Cruce  \\\n",
       "0  FERNANDEZ DE LA CRUZ, F., GRAL. AV.   \n",
       "1                  DE LOS CORRALES AV.   \n",
       "2                                  NaN   \n",
       "3             VILLEGAS, CONRADO, GRAL.   \n",
       "4              SAENZ PE?A, LUIS, PRES.   \n",
       "\n",
       "                               Dirección Normalizada  Comuna  \\\n",
       "0  PIEDRA BUENA AV. y FERNANDEZ DE LA CRUZ, F., G...       8   \n",
       "1               PAZ, GRAL. AV. y DE LOS CORRALES AV.       9   \n",
       "2                                ENTRE RIOS AV. 2034       1   \n",
       "3          LARRAZABAL AV. y VILLEGAS, CONRADO, GRAL.       8   \n",
       "4            SAN JUAN AV. y SAENZ PEÃ‘A, LUIS, PRES.       1   \n",
       "\n",
       "                                             Barrios  Poblacion  \\\n",
       "0     VILLA LUGANO - VILLA RIACHUELO - VILLA SOLDATI   226649.0   \n",
       "1            LINIERS - MATADEROS - PARQUE AVELLANEDA   170605.0   \n",
       "2  CONSTITUCION - MONTSERRAT - PUERTO MADERO - RE...   253271.0   \n",
       "3     VILLA LUGANO - VILLA RIACHUELO - VILLA SOLDATI   226649.0   \n",
       "4  CONSTITUCION - MONTSERRAT - PUERTO MADERO - RE...   253271.0   \n",
       "\n",
       "                          Geo_Localizacion      Longitud       Latitud  \\\n",
       "0    Point (98896.78238426 93532.43437792)  -58.47533969  -34.68757022   \n",
       "1    Point (95832.05571093 95505.41641999)  -58.50877521  -34.66977709   \n",
       "2   Point (106684.29090040 99706.57687843)  -58.39040293  -34.63189362   \n",
       "3    Point (99840.65224780 94269.16534422)  -58.46503904  -34.68092974   \n",
       "4  Point (106980.32827929 100752.16915795)  -58.38718297  -34.62246630   \n",
       "\n",
       "    Participantes Victima    Acusado  \n",
       "0       MOTO-AUTO    MOTO       AUTO  \n",
       "1  AUTO-PASAJEROS    AUTO  PASAJEROS  \n",
       "2       MOTO-AUTO    MOTO       AUTO  \n",
       "3         MOTO-SD    MOTO         SD  \n",
       "4  MOTO-PASAJEROS    MOTO  PASAJEROS  "
      ]
     },
     "execution_count": 55,
     "metadata": {},
     "output_type": "execute_result"
    }
   ],
   "source": [
    "hechos.head()"
   ]
  },
  {
   "cell_type": "markdown",
   "metadata": {},
   "source": [
    "***\n",
    "### Modificacion tipo de variable"
   ]
  },
  {
   "cell_type": "code",
   "execution_count": 58,
   "metadata": {},
   "outputs": [],
   "source": [
    "# Cambiar tipo de varaiables \n",
    "hechos['Hora_Completa_Hechos'] = pd.to_datetime(hechos['Hora_Completa_Hechos'], format='%H:%M:%S', errors='coerce')\n",
    "hechos['Hora_Hechos'] = hechos['Hora_Hechos'].apply(lambda x: int(x) if x != 'SD' else x)\n",
    "hechos['Poblacion'] = hechos['Poblacion'].apply(lambda x: int(x) if x != 'SD' and not pd.isna(x) else np.nan)\n",
    "hechos['Latitud'] = pd.to_numeric(hechos['Latitud'], errors='coerce')\n",
    "hechos['Longitud'] = pd.to_numeric(hechos['Longitud'], errors='coerce')\n"
   ]
  },
  {
   "cell_type": "markdown",
   "metadata": {},
   "source": [
    "***\n",
    "### Guardado en Formato Excel"
   ]
  },
  {
   "cell_type": "code",
   "execution_count": 59,
   "metadata": {},
   "outputs": [],
   "source": [
    "# Guardar DataFrame transformado\n",
    "hechos.to_excel('hechos_comuna_habitantes.xlsx', index=False)"
   ]
  },
  {
   "cell_type": "markdown",
   "metadata": {},
   "source": [
    "***\n",
    "***"
   ]
  }
 ],
 "metadata": {
  "kernelspec": {
   "display_name": "Python 3",
   "language": "python",
   "name": "python3"
  },
  "language_info": {
   "codemirror_mode": {
    "name": "ipython",
    "version": 3
   },
   "file_extension": ".py",
   "mimetype": "text/x-python",
   "name": "python",
   "nbconvert_exporter": "python",
   "pygments_lexer": "ipython3",
   "version": "3.10.8"
  }
 },
 "nbformat": 4,
 "nbformat_minor": 2
}
